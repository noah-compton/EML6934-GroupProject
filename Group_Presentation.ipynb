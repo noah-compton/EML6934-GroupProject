{
 "cells": [
  {
   "cell_type": "markdown",
   "metadata": {},
   "source": [
    "# Jet Engine Performance Model (Steady State)"
   ]
  },
  {
   "cell_type": "markdown",
   "metadata": {},
   "source": [
    "by Noah Compton, Isabel Husted, and Jose Roque"
   ]
  },
  {
   "cell_type": "markdown",
   "metadata": {},
   "source": [
    "## Parts -or- Components\n",
    "Parts are stored in independent files, and they all define a `class` with the Part name, for example, the file `compressor.py` will have the definition of the `class` Compressor.\n",
    "\n",
    "For example, to import an specific Compressor, we export the Compressor `class` from the file `compressor.py`"
   ]
  },
  {
   "cell_type": "code",
   "execution_count": 37,
   "metadata": {},
   "outputs": [],
   "source": [
    "from compressor import Compressor"
   ]
  },
  {
   "cell_type": "markdown",
   "metadata": {},
   "source": [
    "## Part List\n",
    "To start building the engine model, all parts must be loaded from its specified file:"
   ]
  },
  {
   "cell_type": "code",
   "execution_count": 38,
   "metadata": {},
   "outputs": [],
   "source": [
    "# Part List\n",
    "from inlet      import Inlet\n",
    "from fan        import Fan\n",
    "from bypass     import Bypass\n",
    "from compressor import Compressor\n",
    "from burner     import Burner\n",
    "from turbine    import Turbine\n",
    "from mixer      import Mixer\n",
    "from nozzle     import Nozzle"
   ]
  },
  {
   "cell_type": "markdown",
   "metadata": {},
   "source": [
    "or simply by creating a separate file named `part_list.py` and list all parts as shown above, we can import as:"
   ]
  },
  {
   "cell_type": "code",
   "execution_count": 39,
   "metadata": {},
   "outputs": [],
   "source": [
    "# Part List\n",
    "from part_list import *"
   ]
  },
  {
   "cell_type": "markdown",
   "metadata": {},
   "source": [
    "## Processes\n",
    "Processes are `functions` that will be used throughout the Parts, make them iteract with each other and calculate certain paramenters. \n",
    "\n",
    "Similar to part_list, processes are defined in an independent file `processes.py`"
   ]
  },
  {
   "cell_type": "code",
   "execution_count": null,
   "metadata": {},
   "outputs": [],
   "source": [
    "# Processes\n",
    "from processes import *"
   ]
  },
  {
   "cell_type": "markdown",
   "metadata": {},
   "source": [
    "For example, the function `check_units` in the processes file, will compare the units of two variables, this way when any class tries to add or substact variables it will check if they are compatible with each other to avoid calculation errors:"
   ]
  },
  {
   "cell_type": "code",
   "execution_count": 40,
   "metadata": {},
   "outputs": [
    {
     "ename": "ValueError",
     "evalue": "Units not consistent, var1 kg/s | var2 kg",
     "output_type": "error",
     "traceback": [
      "\u001b[1;31m---------------------------------------------------------------------------\u001b[0m",
      "\u001b[1;31mValueError\u001b[0m                                Traceback (most recent call last)",
      "\u001b[1;32m<ipython-input-40-27dd4f34014c>\u001b[0m in \u001b[0;36m<module>\u001b[1;34m\u001b[0m\n\u001b[0;32m      3\u001b[0m \u001b[0mvar3\u001b[0m \u001b[1;33m=\u001b[0m \u001b[1;33m{\u001b[0m\u001b[1;34m'value'\u001b[0m\u001b[1;33m:\u001b[0m \u001b[0mfloat\u001b[0m \u001b[1;33m,\u001b[0m \u001b[1;34m'units'\u001b[0m\u001b[1;33m:\u001b[0m  \u001b[0mstr\u001b[0m  \u001b[1;33m}\u001b[0m\u001b[1;33m\u001b[0m\u001b[1;33m\u001b[0m\u001b[0m\n\u001b[0;32m      4\u001b[0m \u001b[1;33m\u001b[0m\u001b[0m\n\u001b[1;32m----> 5\u001b[1;33m \u001b[0mcheck_units\u001b[0m\u001b[1;33m(\u001b[0m\u001b[0mvar1\u001b[0m\u001b[1;33m,\u001b[0m \u001b[0mvar2\u001b[0m\u001b[1;33m)\u001b[0m\u001b[1;33m\u001b[0m\u001b[1;33m\u001b[0m\u001b[0m\n\u001b[0m\u001b[0;32m      6\u001b[0m \u001b[1;33m\u001b[0m\u001b[0m\n\u001b[0;32m      7\u001b[0m \u001b[0mvar3\u001b[0m\u001b[1;33m[\u001b[0m\u001b[1;34m'value'\u001b[0m\u001b[1;33m]\u001b[0m \u001b[1;33m=\u001b[0m \u001b[0mvar1\u001b[0m\u001b[1;33m[\u001b[0m\u001b[1;34m'value'\u001b[0m\u001b[1;33m]\u001b[0m \u001b[1;33m+\u001b[0m \u001b[0mvar2\u001b[0m\u001b[1;33m[\u001b[0m\u001b[1;34m'value'\u001b[0m\u001b[1;33m]\u001b[0m\u001b[1;33m\u001b[0m\u001b[1;33m\u001b[0m\u001b[0m\n",
      "\u001b[1;32mc:\\Users\\jroqu\\OneDrive - University of Florida\\Documents\\GitHub\\EML6934-GroupProject\\processes.py\u001b[0m in \u001b[0;36mcheck_units\u001b[1;34m(var1, var2)\u001b[0m\n\u001b[0;32m     47\u001b[0m         \u001b[1;32mif\u001b[0m \u001b[0mvar1\u001b[0m\u001b[1;33m[\u001b[0m\u001b[1;34m'units'\u001b[0m\u001b[1;33m]\u001b[0m \u001b[1;33m!=\u001b[0m \u001b[0mvar2\u001b[0m\u001b[1;33m:\u001b[0m\u001b[1;33m\u001b[0m\u001b[1;33m\u001b[0m\u001b[0m\n\u001b[0;32m     48\u001b[0m             \u001b[1;32mraise\u001b[0m \u001b[0mValueError\u001b[0m\u001b[1;33m(\u001b[0m\u001b[1;34mf\"Units not consistent, var1 {var1['units']} | var2 {var2['units']}\"\u001b[0m\u001b[1;33m)\u001b[0m\u001b[1;33m\u001b[0m\u001b[1;33m\u001b[0m\u001b[0m\n\u001b[1;32m---> 49\u001b[1;33m \u001b[1;33m\u001b[0m\u001b[0m\n\u001b[0m\u001b[0;32m     50\u001b[0m     \u001b[1;32melif\u001b[0m \u001b[0mtype\u001b[0m\u001b[1;33m(\u001b[0m\u001b[0mvar1\u001b[0m\u001b[1;33m)\u001b[0m \u001b[1;32mis\u001b[0m \u001b[0mstr\u001b[0m \u001b[1;32mand\u001b[0m \u001b[0mtype\u001b[0m\u001b[1;33m(\u001b[0m\u001b[0mvar2\u001b[0m\u001b[1;33m)\u001b[0m \u001b[1;32mis\u001b[0m \u001b[0mdict\u001b[0m\u001b[1;33m:\u001b[0m\u001b[1;33m\u001b[0m\u001b[1;33m\u001b[0m\u001b[0m\n\u001b[0;32m     51\u001b[0m         \u001b[1;32mif\u001b[0m \u001b[0mvar1\u001b[0m \u001b[1;33m!=\u001b[0m \u001b[0mvar2\u001b[0m\u001b[1;33m[\u001b[0m\u001b[1;34m'units'\u001b[0m\u001b[1;33m]\u001b[0m\u001b[1;33m:\u001b[0m\u001b[1;33m\u001b[0m\u001b[1;33m\u001b[0m\u001b[0m\n",
      "\u001b[1;31mValueError\u001b[0m: Units not consistent, var1 kg/s | var2 kg"
     ]
    }
   ],
   "source": [
    "var1 = {'value': 1.    , 'units': 'kg/s'} \n",
    "var2 = {'value': 2.    , 'units': 'kg'  } \n",
    "var3 = {'value': float , 'units':  str  }\n",
    "\n",
    "check_units(var1, var2)\n",
    "\n",
    "var3['value'] = var1['value'] + var2['value']\n",
    "var3['units'] = var1['units']"
   ]
  },
  {
   "cell_type": "markdown",
   "metadata": {},
   "source": [
    "Units for `var1` were kg/s and `var2` kg ... you can't add different dimensions!\n",
    "\n",
    "Now, modifying `var2` to be kg/s ... "
   ]
  },
  {
   "cell_type": "code",
   "execution_count": 41,
   "metadata": {},
   "outputs": [
    {
     "data": {
      "text/plain": [
       "{'value': 3.0, 'units': 'kg/s'}"
      ]
     },
     "execution_count": 41,
     "metadata": {},
     "output_type": "execute_result"
    }
   ],
   "source": [
    "var1 = {'value': 1.   , 'units': 'kg/s'} \n",
    "var2 = {'value': 2.   , 'units': 'kg/s'}\n",
    "var3 = {'value': float, 'units':  str  }\n",
    "\n",
    "check_units(var1, var2)\n",
    "\n",
    "var3['value'] = var1['value'] + var2['value']\n",
    "var3['units'] = var1['units']\n",
    "\n",
    "var3"
   ]
  },
  {
   "cell_type": "markdown",
   "metadata": {},
   "source": [
    "## Engine Definition\n",
    "After all parts are loaded, then all the components in the engine are defined:"
   ]
  },
  {
   "cell_type": "code",
   "execution_count": 42,
   "metadata": {},
   "outputs": [],
   "source": [
    "# Inlet\n",
    "Int00 =      Inlet(name='Int10')\n",
    "\n",
    "# Core\n",
    "Fan10 =        Fan(name='Fan10')\n",
    "Cmp20 = Compressor(name='Cmp20')\n",
    "Brn30 =     Burner(name='Brn30')\n",
    "Trb40 =    Turbine(name='Trb40')\n",
    "\n",
    "# Bypass\n",
    "Byp13 =     Bypass(name='Byp13')\n",
    "Byp15 =     Bypass(name='Byp15')\n",
    "\n",
    "# Mixing Plane\n",
    "Mix50 =      Mixer(name='Mix50')\n",
    "\n",
    "# Nozzle / Exhaust\n",
    "Noz70 =     Nozzle(name='Noz70')"
   ]
  },
  {
   "cell_type": "markdown",
   "metadata": {},
   "source": [
    "## Test Data -or- Design Parameters\n",
    "After each component is defined, then known values are assigned, which can come from test data or design parameters"
   ]
  },
  {
   "cell_type": "code",
   "execution_count": 43,
   "metadata": {},
   "outputs": [],
   "source": [
    "# Test Data / Design Parameters\n",
    "# Inlet, Station: 00\n",
    "Int00.u_in     = {'value': 600.    , 'units': 'm/s'  }\n",
    "Int00.W_in     = {'value': 25.     , 'units': 'kg/s' }\n",
    "\n",
    "# Compressor, Station: 20\n",
    "Cmp20.PR       = {'value': 20.     , 'units': '-'    }\n",
    "Cmp20.eff_poly = {'value': 0.9     , 'units': '-'    }\n",
    "\n",
    "# Burner, Station: 30\n",
    "Brn30.PR       = {'value': 0.95    , 'units': '-'    }\n",
    "Brn30.eff_mech = {'value': 0.98    , 'units': '-'    }\n",
    "Brn30.Tt_out   = {'value': 1673.   , 'units': 'K'    }\n",
    "\n",
    "# Nozzle, Station: 70\n",
    "Noz70.u_out    = {'value': 735.    , 'units': 'm/s'  }\n",
    "Noz70.W_out    = {'value': 25.1070 , 'units': 'kg/s' }\n"
   ]
  },
  {
   "cell_type": "markdown",
   "metadata": {},
   "source": [
    "## Performance Parameters:\n",
    "processes contain a few functions to calculate performance paramenters of the system, such as:\n",
    "1) Gross Thrust -> `gross_thrust(nozzle)`\n",
    "2) Ram Drag -> `ram_drag(inlet)`\n",
    "3) Net Thrust -> `net_thrust(inlet, nozzle)`\n",
    "4) TSFC (Thrust-specific-fuel-conpsumption) -> `tsfc(inlet, burner, nozzle)`\n",
    "5) Thermal, Propulsive and Overall System Efficiency -> `efficiency(inlet, burner, nozzle)`\n",
    "\n",
    "All functions will take as input the specific class\n",
    "\n",
    "### Net Thrust\n",
    "Net Thrust can be calculated using net_thrust(inlet: Inlet, nozzle: Nozzle):\n",
    "- Format `net_thrust(inlet, nozzle)`\n",
    "\n",
    "The function will take as input the `inlet` and `nozzle` of the Engine and calculate the net thrust for the given condition"
   ]
  },
  {
   "cell_type": "code",
   "execution_count": 44,
   "metadata": {},
   "outputs": [
    {
     "data": {
      "text/plain": [
       "{'value': 3453.6450000000004, 'units': 'N'}"
      ]
     },
     "execution_count": 44,
     "metadata": {},
     "output_type": "execute_result"
    }
   ],
   "source": [
    "Fn    = net_thrust(Int00, Noz70)\n",
    "Fn"
   ]
  }
 ],
 "metadata": {
  "kernelspec": {
   "display_name": "Python 3.8.5 ('base')",
   "language": "python",
   "name": "python3"
  },
  "language_info": {
   "codemirror_mode": {
    "name": "ipython",
    "version": 3
   },
   "file_extension": ".py",
   "mimetype": "text/x-python",
   "name": "python",
   "nbconvert_exporter": "python",
   "pygments_lexer": "ipython3",
   "version": "3.8.5"
  },
  "orig_nbformat": 4,
  "vscode": {
   "interpreter": {
    "hash": "005e58e5f710753b16bb9a2e961aada14c12efd473e9c785b748db3aa73227b7"
   }
  }
 },
 "nbformat": 4,
 "nbformat_minor": 2
}
