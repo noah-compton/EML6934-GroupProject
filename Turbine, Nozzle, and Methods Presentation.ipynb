{
 "cells": [
  {
   "cell_type": "markdown",
   "metadata": {},
   "source": [
    "# Turbine, Diffuser, and Class Methods\n",
    "## Noah Compton\n",
    "## 12/05/22"
   ]
  }
 ],
 "metadata": {
  "kernelspec": {
   "display_name": "Python 3.8.15 ('Python_Class')",
   "language": "python",
   "name": "python3"
  },
  "language_info": {
   "name": "python",
   "version": "3.8.15"
  },
  "orig_nbformat": 4,
  "vscode": {
   "interpreter": {
    "hash": "8e5e3b906c79d663003ea3d6899e07bab8b52b26292ab6601bb99725f5760e79"
   }
  }
 },
 "nbformat": 4,
 "nbformat_minor": 2
}
