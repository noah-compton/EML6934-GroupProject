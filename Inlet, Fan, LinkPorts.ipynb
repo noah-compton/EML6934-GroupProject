{
 "cells": [
  {
   "cell_type": "markdown",
   "metadata": {},
   "source": [
    "# Inlet, Fan, and LinkPorts Function\n",
    "## Isabel Husted\n",
    "## 12/05/22\n",
    "### Components:\n",
    "#### Inlet\n",
    "- The inlet brings free stream air into the engine\n",
    "- The standard naming convention denotes free stream conditions with subscript 0, and output conditions with subscript 2.\n",
    "    - i.e. T_0 is the free stream temperature and T_2 is the temperature at the outlet\n",
    "#### Fan\n",
    "- The fan directs air to core and to the bypass\n",
    "- The standard naming convention denotes input conditions with subscript _, and output conditions with subscript _."
   ]
  },
  {
   "cell_type": "markdown",
   "metadata": {},
   "source": [
    "### Example:\n",
    "Each component has a corresponding class, which is used to determine outlet conditions. \n",
    "- The input conditions for the inlet are the free stream conditions: stagnation pressure, stagnation temperature, and mach number. \n",
    "- Other input conditions are the inlet's characteristics, such as the incoming mass flow and the pressure ratio across the inlet.\n",
    "\n",
    "First the Inlet class must be imported:"
   ]
  },
  {
   "cell_type": "code",
   "execution_count": 31,
   "metadata": {},
   "outputs": [],
   "source": [
    "from inlet import *"
   ]
  },
  {
   "cell_type": "markdown",
   "metadata": {},
   "source": [
    "Once the initial free stream conditions are set, the Inlet class will return the corresponding outlet conditions. The gas_dynamics package is used within the class to calculate properties such as the speed of sound and the total temperature and pressure."
   ]
  },
  {
   "cell_type": "code",
   "execution_count": 32,
   "metadata": {},
   "outputs": [
    {
     "name": "stdout",
     "output_type": "stream",
     "text": [
      "{'PR': {'units': '-', 'value': 0.9},\n",
      " 'P_in': {'units': 'Pa', 'value': 12000},\n",
      " 'Pt_in': {'units': 'Pa', 'value': 93893.38880240716},\n",
      " 'Pt_out': {'units': 'Pa', 'value': 84504.04992216645},\n",
      " 'TR': 1.8,\n",
      " 'T_in': {'units': 'K', 'value': 300},\n",
      " 'Tt_in': {'units': 'K', 'value': 540.0},\n",
      " 'Tt_out': {'units': 'K', 'value': 540.0},\n",
      " 'W_in': {'units': 'kg/s', 'value': 25},\n",
      " 'W_out': {'units': 'kg/s', 'value': 25},\n",
      " 'XMN_in': {'units': '-', 'value': 2},\n",
      " 'a_in': {'units': 'm/s', 'value': 347.1282183862326},\n",
      " 'inlet': '',\n",
      " 'name': 'Int10',\n",
      " 'outlet': '',\n",
      " 'u_in': {'units': 'm/s', 'value': 694.2564367724652}}\n"
     ]
    }
   ],
   "source": [
    "Int10 = Inlet(name = 'Int10')\n",
    "\n",
    "#Set initial free stream conditions\n",
    "Int10.P_in   = {'value' : 12000  , 'units' : 'Pa'   }\n",
    "Int10.T_in   = {'value' : 300    , 'units' : 'K'    }\n",
    "Int10.XMN_in = {'value' : 2      , 'units' : '-'    }\n",
    "#Set other inlet characteristics\n",
    "Int10.W_in   = {'value' : 25     , 'units' : 'kg/s' }\n",
    "Int10.PR     = {'value' : 0.9    , 'units' : '-'    }\n",
    "\n",
    "Int10.calc()\n",
    "import pprint\n",
    "pprint.pprint(vars(Int10))"
   ]
  },
  {
   "cell_type": "markdown",
   "metadata": {},
   "source": [
    "A similar procedure can be followed for the fan. However, the outlet conditions from the inlet are used as the inlet conditions for the fan."
   ]
  },
  {
   "cell_type": "code",
   "execution_count": 33,
   "metadata": {},
   "outputs": [
    {
     "name": "stdout",
     "output_type": "stream",
     "text": [
      "{'PR': {'units': '-', 'value': 1.5},\n",
      " 'Pt_in': {'units': 'Pa', 'value': 84504.04992216645},\n",
      " 'Pt_out': {'units': 'Pa', 'value': 126756.07488324968},\n",
      " 'TR': {'units': '', 'value': 1.137370571348326},\n",
      " 'Tt_in': {'units': 'K', 'value': 540.0},\n",
      " 'Tt_out': {'units': 'K', 'value': 614.1801085280961},\n",
      " 'W_in': {'units': 'kg/s', 'value': 25},\n",
      " 'W_out': {'units': '-', 'value': 25},\n",
      " 'eff_poly': {'units': '-', 'value': 0.9},\n",
      " 'inlet': '',\n",
      " 'name': 'fan130',\n",
      " 'outlet': ''}\n"
     ]
    }
   ],
   "source": [
    "from fan import *\n",
    "\n",
    "Fan130 = Fan(name = 'fan130')\n",
    "\n",
    "#Set fan inlet conditions using inlet outlet conditions\n",
    "Fan130.Pt_in    = Int10.Pt_out\n",
    "Fan130.Tt_in    = Int10.Tt_out\n",
    "Fan130.W_in     = Int10.W_out\n",
    "\n",
    "#Set fan characteristics\n",
    "Fan130.PR       = {'value' : 1.5, 'units' : '-'}\n",
    "Fan130.eff_poly = {'value' : 0.9, 'units' : '-'}\n",
    "\n",
    "Fan130.calc()\n",
    "pprint.pprint(vars(Fan130))"
   ]
  },
  {
   "cell_type": "markdown",
   "metadata": {},
   "source": [
    "### LinkPorts:\n",
    "Rather than manually inputting the outlet properties into the following class's input, a function can be used to simplify the process. The LinkPorts function converts the outlet temperature, pressure, and mass flow values to the inlet for the next station. The only alteration required to each of the classes is the addition of an \"inlet\" and \"outlet\" attribute, which are then defined by the LinkPorts function."
   ]
  },
  {
   "cell_type": "code",
   "execution_count": 34,
   "metadata": {},
   "outputs": [
    {
     "name": "stdout",
     "output_type": "stream",
     "text": [
      "{'PR': {'units': '-', 'value': 1.5},\n",
      " 'Pt_in': {'units': 'Pa', 'value': 84504.04992216645},\n",
      " 'Pt_out': {'units': 'Pa', 'value': 126756.07488324968},\n",
      " 'TR': {'units': '', 'value': 1.137370571348326},\n",
      " 'Tt_in': {'units': 'K', 'value': 540.0},\n",
      " 'Tt_out': {'units': 'K', 'value': 614.1801085280961},\n",
      " 'W_in': {'units': 'kg/s', 'value': 25},\n",
      " 'W_out': {'units': '-', 'value': 25},\n",
      " 'eff_poly': {'units': '-', 'value': 0.9},\n",
      " 'inlet': 'Int10',\n",
      " 'name': 'fan130',\n",
      " 'outlet': ''}\n"
     ]
    }
   ],
   "source": [
    "from LinkPort import *\n",
    "\n",
    "#Use LinkPorts function to connect the inlet's outlet and fan's inlet\n",
    "Int10.calc()\n",
    "LinkPorts(Int10, Fan130)\n",
    "Fan130.calc()\n",
    "\n",
    "pprint.pprint(vars(Fan130))"
   ]
  },
  {
   "cell_type": "markdown",
   "metadata": {},
   "source": [
    "Calling the fan attributes using LinkPorts is significanlty simpler than manually inputting the values. After the initial conditions and characteristics are set for each station, LinkPorts can also be used to connect multiple stations, further reducing the amount of code required."
   ]
  },
  {
   "cell_type": "code",
   "execution_count": 35,
   "metadata": {},
   "outputs": [
    {
     "name": "stdout",
     "output_type": "stream",
     "text": [
      "{'PR': {'units': '-', 'value': 20},\n",
      " 'Pt_in': {'units': 'Pa', 'value': 126756.07488324968},\n",
      " 'Pt_out': {'units': 'Pa', 'value': 2535121.4976649936},\n",
      " 'TR': {'units': '-', 'value': 2.588364265799516},\n",
      " 'Tt_in': {'units': 'K', 'value': 614.1801085280961},\n",
      " 'Tt_out': {'units': 'K', 'value': 1589.7218456789924},\n",
      " 'W_in': {'units': '-', 'value': 25},\n",
      " 'W_out': {'units': '-', 'value': 25},\n",
      " 'eff_poly': {'units': '-', 'value': 0.9},\n",
      " 'inlet': 'fan130',\n",
      " 'name': 'Cmp20',\n",
      " 'outlet': ''}\n"
     ]
    }
   ],
   "source": [
    "from compressor import *\n",
    "\n",
    "Cmp20 = Compressor(name = 'Cmp20')\n",
    "\n",
    "#Set compressor characteristics\n",
    "Cmp20.eff_poly = {'value' : 0.9 , 'units' : '-'}\n",
    "Cmp20.PR       = {'value' : 20  , 'units' : '-'}\n",
    "\n",
    "Int10.calc()\n",
    "LinkPorts(Int10, Fan130)\n",
    "Fan130.calc()\n",
    "LinkPorts(Fan130, Cmp20)\n",
    "Cmp20.calc()\n",
    "\n",
    "pprint.pprint(vars(Cmp20))"
   ]
  },
  {
   "cell_type": "markdown",
   "metadata": {},
   "source": [
    "### Inlets and Outlets:\n",
    "LinkPorts takes an argument of (object1, object2): it sets object 1 as object 2's inlet and object 2 as object 1's outlet. When used consecutively with multiple objects, a class's inlet and outlet can be set as the previous and next station, respectively."
   ]
  },
  {
   "cell_type": "code",
   "execution_count": 36,
   "metadata": {},
   "outputs": [
    {
     "name": "stdout",
     "output_type": "stream",
     "text": [
      "Fan130 inlet: Int10\n",
      "Fan130 outlet: Cmp20\n"
     ]
    }
   ],
   "source": [
    "print(f'Fan130 inlet: {Fan130.inlet}\\nFan130 outlet: {Fan130.outlet}')"
   ]
  }
 ],
 "metadata": {
  "kernelspec": {
   "display_name": "Python 3.8.15 ('Jet_performance')",
   "language": "python",
   "name": "python3"
  },
  "language_info": {
   "codemirror_mode": {
    "name": "ipython",
    "version": 3
   },
   "file_extension": ".py",
   "mimetype": "text/x-python",
   "name": "python",
   "nbconvert_exporter": "python",
   "pygments_lexer": "ipython3",
   "version": "3.8.15"
  },
  "orig_nbformat": 4,
  "vscode": {
   "interpreter": {
    "hash": "3259450f655ea50efb96e4dfa5c100eb374076adc4ed06af84f8e2e28751c3d0"
   }
  }
 },
 "nbformat": 4,
 "nbformat_minor": 2
}
