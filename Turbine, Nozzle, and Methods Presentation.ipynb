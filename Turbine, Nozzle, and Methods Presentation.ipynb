{
 "cells": [
  {
   "cell_type": "markdown",
   "metadata": {},
   "source": [
    "# Turbine, Diffuser, and Class Methods\n",
    "## Noah Compton\n",
    "## 12/05/22"
   ]
  },
  {
   "cell_type": "code",
   "execution_count": 1,
   "metadata": {},
   "outputs": [],
   "source": [
    "from turbine import Turbine"
   ]
  },
  {
   "cell_type": "code",
   "execution_count": 2,
   "metadata": {},
   "outputs": [
    {
     "name": "stdout",
     "output_type": "stream",
     "text": [
      "0.8715901379878442\n"
     ]
    }
   ],
   "source": [
    "efficiency = Turbine.polytropic_efficiency(TR=2.2, PR=20.7)\n",
    "print(efficiency)"
   ]
  },
  {
   "cell_type": "code",
   "execution_count": 3,
   "metadata": {},
   "outputs": [
    {
     "name": "stdout",
     "output_type": "stream",
     "text": [
      "539.0\n"
     ]
    }
   ],
   "source": [
    "Tt5 = Turbine.Tt_out_from_poly_efficiency(Tt_in=450, PR=20.7, eff_poly=efficiency)\n",
    "print(Tt5)"
   ]
  }
 ],
 "metadata": {
  "kernelspec": {
   "display_name": "Python 3.8.15 ('Python_Class')",
   "language": "python",
   "name": "python3"
  },
  "language_info": {
   "codemirror_mode": {
    "name": "ipython",
    "version": 3
   },
   "file_extension": ".py",
   "mimetype": "text/x-python",
   "name": "python",
   "nbconvert_exporter": "python",
   "pygments_lexer": "ipython3",
   "version": "3.8.15"
  },
  "orig_nbformat": 4,
  "vscode": {
   "interpreter": {
    "hash": "8e5e3b906c79d663003ea3d6899e07bab8b52b26292ab6601bb99725f5760e79"
   }
  }
 },
 "nbformat": 4,
 "nbformat_minor": 2
}
