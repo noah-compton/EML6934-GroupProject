{
 "cells": [
  {
   "cell_type": "markdown",
   "metadata": {},
   "source": [
    "# Jet Engine Performance Model (Steady State)"
   ]
  },
  {
   "cell_type": "markdown",
   "metadata": {},
   "source": [
    "by Noah Compton, Isabel Husted, and Jose Roque"
   ]
  },
  {
   "cell_type": "markdown",
   "metadata": {},
   "source": [
    "## Parts -or- Components\n",
    "Parts are stored in independent files, and they all define a `class` with the Part name, for example, the file `compressor.py` will have the definition of the `class` Compressor.\n",
    "\n",
    "For example, to import an specific Compressor, we export the Compressor `class` from the file `compressor.py`"
   ]
  },
  {
   "cell_type": "code",
   "execution_count": 21,
   "metadata": {},
   "outputs": [
    {
     "ename": "KeyError",
     "evalue": "0",
     "output_type": "error",
     "traceback": [
      "\u001b[1;31m---------------------------------------------------------------------------\u001b[0m",
      "\u001b[1;31mKeyError\u001b[0m                                  Traceback (most recent call last)",
      "\u001b[1;32m<ipython-input-21-f259b3ffc949>\u001b[0m in \u001b[0;36m<module>\u001b[1;34m\u001b[0m\n\u001b[0;32m      1\u001b[0m \u001b[1;32mfrom\u001b[0m \u001b[0mcompressor\u001b[0m \u001b[1;32mimport\u001b[0m \u001b[0mCompressor\u001b[0m\u001b[1;33m\u001b[0m\u001b[1;33m\u001b[0m\u001b[0m\n\u001b[0;32m      2\u001b[0m \u001b[1;33m\u001b[0m\u001b[0m\n\u001b[1;32m----> 3\u001b[1;33m \u001b[0mCmp20\u001b[0m \u001b[1;33m=\u001b[0m \u001b[0mCompressor\u001b[0m\u001b[1;33m(\u001b[0m\u001b[0mname\u001b[0m\u001b[1;33m=\u001b[0m\u001b[1;34m'Cmp20'\u001b[0m\u001b[1;33m,\u001b[0m\u001b[0meff_poly\u001b[0m \u001b[1;33m=\u001b[0m \u001b[1;33m{\u001b[0m\u001b[1;34m'value'\u001b[0m\u001b[1;33m:\u001b[0m \u001b[1;36m0.9\u001b[0m\u001b[1;33m,\u001b[0m \u001b[1;34m'units'\u001b[0m\u001b[1;33m:\u001b[0m \u001b[1;34m'-'\u001b[0m\u001b[1;33m}\u001b[0m\u001b[1;33m,\u001b[0m \u001b[0mPR\u001b[0m \u001b[1;33m=\u001b[0m \u001b[1;33m{\u001b[0m\u001b[1;34m'value'\u001b[0m\u001b[1;33m:\u001b[0m \u001b[1;36m20.\u001b[0m\u001b[1;33m,\u001b[0m \u001b[1;34m'units'\u001b[0m\u001b[1;33m:\u001b[0m \u001b[1;34m'-'\u001b[0m\u001b[1;33m}\u001b[0m\u001b[1;33m)\u001b[0m\u001b[1;33m\u001b[0m\u001b[1;33m\u001b[0m\u001b[0m\n\u001b[0m",
      "\u001b[1;32mc:\\Users\\jroqu\\OneDrive - University of Florida\\Documents\\GitHub\\EML6934-GroupProject\\compressor.py\u001b[0m in \u001b[0;36m__init__\u001b[1;34m(self, **kwargs)\u001b[0m\n\u001b[0;32m     66\u001b[0m                       \u001b[1;34m'PR'\u001b[0m       \u001b[1;33m,\u001b[0m \u001b[1;34m'TR'\u001b[0m       \u001b[1;33m,\u001b[0m \u001b[1;34m'N_mech'\u001b[0m   \u001b[1;33m,\u001b[0m\u001b[1;33m\u001b[0m\u001b[1;33m\u001b[0m\u001b[0m\n\u001b[0;32m     67\u001b[0m                       \u001b[1;34m'eff_poly'\u001b[0m \u001b[1;33m,\u001b[0m \u001b[1;34m'eff_mech'\u001b[0m \u001b[1;33m,\u001b[0m \u001b[1;34m'eff_isen'\u001b[0m \u001b[1;33m,\u001b[0m\u001b[1;33m\u001b[0m\u001b[1;33m\u001b[0m\u001b[0m\n\u001b[1;32m---> 68\u001b[1;33m                       ]\n\u001b[0m\u001b[0;32m     69\u001b[0m \u001b[1;33m\u001b[0m\u001b[0m\n\u001b[0;32m     70\u001b[0m         \u001b[1;32mfor\u001b[0m \u001b[0mproperty\u001b[0m \u001b[1;32min\u001b[0m \u001b[0mkwargs\u001b[0m\u001b[1;33m:\u001b[0m\u001b[1;33m\u001b[0m\u001b[1;33m\u001b[0m\u001b[0m\n",
      "\u001b[1;31mKeyError\u001b[0m: 0"
     ]
    }
   ],
   "source": [
    "from compressor import Compressor\n",
    "\n",
    "Cmp20 = Compressor(name='Cmp20',eff_poly = {'value': 0.9, 'units': '-'}, PR = {'value': 20., 'units': '-'})"
   ]
  },
  {
   "cell_type": "code",
   "execution_count": 20,
   "metadata": {},
   "outputs": [
    {
     "name": "stdout",
     "output_type": "stream",
     "text": [
      "Cmp20.PR = {'value': 20., 'units': '-' }\n",
      "['name', 'inlet', 'outlet', 'Pt_in', 'Tt_in', 'W_in', 'Pt_out', 'Tt_out', 'W_out', 'PR', 'TR', 'N_mech', 'eff_poly', 'eff_mech', 'eff_isen']\n"
     ]
    },
    {
     "data": {
      "text/plain": [
       "True"
      ]
     },
     "execution_count": 20,
     "metadata": {},
     "output_type": "execute_result"
    }
   ],
   "source": [
    "\n",
    "exp = \"Cmp20.PR = {'value': 20., 'units': '-' }\"\n",
    "print(exp)\n",
    "exec(exp)\n",
    "\n",
    "interested = [\n",
    "                'name'     , 'inlet'    , 'outlet'   , \n",
    "                'Pt_in'    , 'Tt_in'    , 'W_in'     , \n",
    "                'Pt_out'   , 'Tt_out'   , 'W_out'    , \n",
    "                'PR'       , 'TR'       , 'N_mech'   ,\n",
    "                'eff_poly' , 'eff_mech' , 'eff_isen' ,\n",
    "                ]\n",
    "\n",
    "print(interested)\n",
    "\n",
    "'name' in interested\n",
    "# if property == 'name':\n",
    "#     self.name = values\n",
    "\n",
    "# elif property in interested:\n",
    "#     exp1 = \"self.Pt_in['value'] = value\"\n",
    "#     exp2 = \"self.Pt_in['units'] = units\"\n",
    "\n",
    "#     exec(exp1)\n",
    "\n",
    "#     if len(values) == 2:\n",
    "#         exec(exp2)\n",
    "\n",
    "#     elif len(values) < 2:\n",
    "#         raise ValueError(\"Some of the inputs are missing units\")\n",
    "\n",
    "# else:\n",
    "#     raise Warning(\"Some inputs were not expected, ignoring extra inputs\")"
   ]
  },
  {
   "cell_type": "markdown",
   "metadata": {},
   "source": [
    "## Part List\n",
    "To start building the engine model, all parts must be loaded from its specified file:"
   ]
  },
  {
   "cell_type": "code",
   "execution_count": null,
   "metadata": {},
   "outputs": [],
   "source": [
    "# Part List\n",
    "from inlet      import Inlet\n",
    "from fan        import Fan\n",
    "from bypass     import Bypass\n",
    "from compressor import Compressor\n",
    "from burner     import Burner\n",
    "from turbine    import Turbine\n",
    "from mixer      import Mixer\n",
    "from nozzle     import Nozzle"
   ]
  },
  {
   "cell_type": "markdown",
   "metadata": {},
   "source": [
    "or simply by creating a separate file named `part_list.py` and list all parts as shown above, we can import as:"
   ]
  },
  {
   "cell_type": "code",
   "execution_count": null,
   "metadata": {},
   "outputs": [],
   "source": [
    "# Part List\n",
    "from part_list import *"
   ]
  },
  {
   "cell_type": "markdown",
   "metadata": {},
   "source": [
    "## Processes\n",
    "Processes are `functions` that will be used throughout the Parts, make them iteract with each other and calculate certain paramenters. \n",
    "\n",
    "Similar to part_list, processes are defined in an independent file `processes.py`"
   ]
  },
  {
   "cell_type": "code",
   "execution_count": null,
   "metadata": {},
   "outputs": [],
   "source": [
    "# Processes\n",
    "from processes import *"
   ]
  },
  {
   "cell_type": "markdown",
   "metadata": {},
   "source": [
    "For example, the function `check_units` in the processes file, will compare the units of two variables, this way when any class tries to add or substact variables it will check if they are compatible with each other to avoid calculation errors:"
   ]
  },
  {
   "cell_type": "code",
   "execution_count": null,
   "metadata": {},
   "outputs": [],
   "source": [
    "var1 = {'value': 1.    , 'units': 'kg/s'} \n",
    "var2 = {'value': 2.    , 'units': 'kg'  } \n",
    "var3 = {'value': float , 'units':  str  }\n",
    "\n",
    "check_units(var1, var2)\n",
    "\n",
    "var3['value'] = var1['value'] + var2['value']\n",
    "var3['units'] = var1['units']"
   ]
  },
  {
   "cell_type": "markdown",
   "metadata": {},
   "source": [
    "Units for `var1` were kg/s and `var2` kg ... you can't add different dimensions!\n",
    "\n",
    "Now, modifying `var2` to be kg/s ... "
   ]
  },
  {
   "cell_type": "code",
   "execution_count": null,
   "metadata": {},
   "outputs": [],
   "source": [
    "var1 = {'value': 1.   , 'units': 'kg/s'} \n",
    "var2 = {'value': 2.   , 'units': 'kg/s'}\n",
    "var3 = {'value': float, 'units':  str  }\n",
    "\n",
    "check_units(var1, var2)\n",
    "\n",
    "var3['value'] = var1['value'] + var2['value']\n",
    "var3['units'] = var1['units']\n",
    "\n",
    "var3"
   ]
  },
  {
   "cell_type": "markdown",
   "metadata": {},
   "source": [
    "## Engine Definition\n",
    "After all parts are loaded, then all the components in the engine are defined:"
   ]
  },
  {
   "cell_type": "code",
   "execution_count": null,
   "metadata": {},
   "outputs": [],
   "source": [
    "# Inlet\n",
    "Int00 =      Inlet(name='Int10')\n",
    "\n",
    "# Core\n",
    "Fan10 =        Fan(name='Fan10')\n",
    "Cmp20 = Compressor(name='Cmp20')\n",
    "Brn30 =     Burner(name='Brn30')\n",
    "Trb40 =    Turbine(name='Trb40')\n",
    "\n",
    "# Bypass\n",
    "Byp13 =     Bypass(name='Byp13')\n",
    "Byp15 =     Bypass(name='Byp15')\n",
    "\n",
    "# Mixing Plane\n",
    "Mix50 =      Mixer(name='Mix50')\n",
    "\n",
    "# Nozzle / Exhaust\n",
    "Noz70 =     Nozzle(name='Noz70')"
   ]
  },
  {
   "cell_type": "markdown",
   "metadata": {},
   "source": [
    "## Test Data -or- Design Parameters\n",
    "After each component is defined, then known values are assigned, which can come from test data or design parameters"
   ]
  },
  {
   "cell_type": "code",
   "execution_count": null,
   "metadata": {},
   "outputs": [],
   "source": [
    "# Test Data / Design Parameters\n",
    "# Inlet, Station: 00\n",
    "Int00.u_in     = {'value': 600.    , 'units': 'm/s'  }\n",
    "Int00.W_in     = {'value': 25.     , 'units': 'kg/s' }\n",
    "\n",
    "# Compressor, Station: 20\n",
    "Cmp20.PR       = {'value': 20.     , 'units': '-'    }\n",
    "Cmp20.eff_poly = {'value': 0.9     , 'units': '-'    }\n",
    "\n",
    "# Burner, Station: 30\n",
    "Brn30.PR       = {'value': 0.95    , 'units': '-'    }\n",
    "Brn30.eff_mech = {'value': 0.98    , 'units': '-'    }\n",
    "Brn30.Tt_out   = {'value': 1673.   , 'units': 'K'    }\n",
    "\n",
    "# Nozzle, Station: 70\n",
    "Noz70.u_out    = {'value': 735.    , 'units': 'm/s'  }\n",
    "Noz70.W_out    = {'value': 25.1070 , 'units': 'kg/s' }\n"
   ]
  },
  {
   "cell_type": "markdown",
   "metadata": {},
   "source": [
    "## Performance Parameters:\n",
    "processes contain a few functions to calculate performance paramenters of the system, such as:\n",
    "1) Gross Thrust -> `gross_thrust(nozzle)`\n",
    "2) Ram Drag -> `ram_drag(inlet)`\n",
    "3) Net Thrust -> `net_thrust(inlet, nozzle)`\n",
    "4) TSFC (Thrust-specific-fuel-conpsumption) -> `tsfc(inlet, burner, nozzle)`\n",
    "5) Thermal, Propulsive and Overall System Efficiency -> `efficiency(inlet, burner, nozzle)`\n",
    "\n",
    "All functions will take as input the specific class\n",
    "\n",
    "### Net Thrust\n",
    "Net Thrust can be calculated using net_thrust(inlet: Inlet, nozzle: Nozzle):\n",
    "- Format `net_thrust(inlet, nozzle)`\n",
    "\n",
    "The function will take as input the `inlet` and `nozzle` of the Engine and calculate the net thrust for the given condition"
   ]
  },
  {
   "cell_type": "code",
   "execution_count": null,
   "metadata": {},
   "outputs": [],
   "source": [
    "Fn    = net_thrust(Int00, Noz70)\n",
    "Fn"
   ]
  }
 ],
 "metadata": {
  "kernelspec": {
   "display_name": "Python 3.8.5 ('base')",
   "language": "python",
   "name": "python3"
  },
  "language_info": {
   "codemirror_mode": {
    "name": "ipython",
    "version": 3
   },
   "file_extension": ".py",
   "mimetype": "text/x-python",
   "name": "python",
   "nbconvert_exporter": "python",
   "pygments_lexer": "ipython3",
   "version": "3.8.5"
  },
  "orig_nbformat": 4,
  "vscode": {
   "interpreter": {
    "hash": "005e58e5f710753b16bb9a2e961aada14c12efd473e9c785b748db3aa73227b7"
   }
  }
 },
 "nbformat": 4,
 "nbformat_minor": 2
}
