{
 "cells": [
  {
   "cell_type": "markdown",
   "metadata": {},
   "source": []
  },
  {
   "cell_type": "code",
   "execution_count": 6,
   "metadata": {},
   "outputs": [
    {
     "name": "stdout",
     "output_type": "stream",
     "text": [
      "{'PR': {'units': '', 'value': 0.9},\n",
      " 'P_in': {'units': 'Pa', 'value': 12000},\n",
      " 'Pt_in': {'units': 'Pa', 'value': 93893.38880240716},\n",
      " 'Pt_out': {'units': 'Pa', 'value': 84504.04992216645},\n",
      " 'TR': 1.8,\n",
      " 'T_in': {'units': 'K', 'value': 300},\n",
      " 'Tt_in': {'units': 'K', 'value': 540.0},\n",
      " 'Tt_out': {'units': 'K', 'value': 540.0},\n",
      " 'W_in': {'units': 'kg/s', 'value': 25},\n",
      " 'W_out': {'units': 'kg/s', 'value': 25},\n",
      " 'XMN_in': {'units': ' ', 'value': 2},\n",
      " 'a_in': {'units': 'm/s', 'value': 347.1282183862326},\n",
      " 'inlet': '',\n",
      " 'name': 'int10',\n",
      " 'outlet': '',\n",
      " 'u_in': {'units': 'm/s', 'value': 694.2564367724652}}\n"
     ]
    }
   ],
   "source": [
    "from inlet import *\n",
    "from fan import *\n",
    "from compressor import *\n",
    "import pprint\n",
    "\n",
    "int10 = Inlet(name = 'int10')\n",
    "int10.P_in = {'value' : 12000, 'units' : 'Pa'}\n",
    "int10.T_in = {'value' : 300, 'units' : 'K'}\n",
    "int10.XMN_in = {'value' : 2, 'units' : ' '}\n",
    "int10.W_in = {'value' : 25, 'units' : 'kg/s'}\n",
    "int10.PR = {'value' : 0.9, 'units' : ''}\n",
    "\n",
    "int10.calc()\n",
    "pprint.pprint(vars(int10))"
   ]
  },
  {
   "cell_type": "code",
   "execution_count": 7,
   "metadata": {},
   "outputs": [
    {
     "name": "stdout",
     "output_type": "stream",
     "text": [
      "{'PR': {'units': '', 'value': 1.5},\n",
      " 'Pt_in': {'units': 'Pa', 'value': 84504.04992216645},\n",
      " 'Pt_out': {'units': 'Pa', 'value': 126756.07488324968},\n",
      " 'TR': {'units': '', 'value': 1.137370571348326},\n",
      " 'Tt_in': {'units': 'K', 'value': 540.0},\n",
      " 'Tt_out': {'units': 'K', 'value': 614.1801085280961},\n",
      " 'W_in': {'units': 'kg/s', 'value': 25},\n",
      " 'W_out': {'units': '-', 'value': 25},\n",
      " 'eff_poly': {'units': '', 'value': 0.9},\n",
      " 'inlet': '',\n",
      " 'name': 'fan130',\n",
      " 'outlet': ''}\n"
     ]
    }
   ],
   "source": [
    "fan130 = Fan(name = 'fan130')\n",
    "fan130.Pt_in = {'value' : int10.Pt_out[\"value\"], 'units' : 'Pa'}\n",
    "fan130.Tt_in = {'value' : int10.Tt_out[\"value\"], 'units' : 'K'}\n",
    "fan130.W_in = {'value' : int10.W_out[\"value\"], 'units' : 'kg/s'}\n",
    "fan130.PR = {'value' : 1.5, 'units' : ''}\n",
    "fan130.eff_poly = {'value' : 0.9, 'units' : ''}\n",
    "fan130.calc()\n",
    "pprint.pprint(vars(fan130))"
   ]
  },
  {
   "cell_type": "markdown",
   "metadata": {},
   "source": [
    "Rather than manually inputting the outlet properties into the following class's input, a function can be used to simplify the process. The \"Link Port\" function converts the outlet temperature, pressure, and mass flow values to the inlet for the next station. The only alteration required to each of the classes is the addition of an \"inlet\" and \"outlet\" attribute, which are defined by the Link Port function."
   ]
  },
  {
   "cell_type": "code",
   "execution_count": 8,
   "metadata": {},
   "outputs": [
    {
     "name": "stdout",
     "output_type": "stream",
     "text": [
      "{'PR': {'units': '', 'value': 1.5},\n",
      " 'Pt_in': {'units': 'Pa', 'value': 84504.04992216645},\n",
      " 'Pt_out': {'units': 'Pa', 'value': 126756.07488324968},\n",
      " 'TR': {'units': '', 'value': 1.137370571348326},\n",
      " 'Tt_in': {'units': 'K', 'value': 540.0},\n",
      " 'Tt_out': {'units': 'K', 'value': 614.1801085280961},\n",
      " 'W_in': {'units': 'kg/s', 'value': 25},\n",
      " 'W_out': {'units': '-', 'value': 25},\n",
      " 'eff_poly': {'units': '', 'value': 0.9},\n",
      " 'inlet': 'int10',\n",
      " 'name': 'fan130',\n",
      " 'outlet': ''}\n"
     ]
    }
   ],
   "source": [
    "from LinkPort import *\n",
    "int10.calc()\n",
    "LinkPorts(int10, fan130)\n",
    "fan130.calc()\n",
    "pprint.pprint(vars(fan130))"
   ]
  },
  {
   "cell_type": "markdown",
   "metadata": {},
   "source": [
    "Calling the fan attributes using Link Port is significanlty simpler than manually inputting the values. Link Port can also be used to connect multiple stations, further reducing the amount of code required."
   ]
  },
  {
   "cell_type": "code",
   "execution_count": 9,
   "metadata": {},
   "outputs": [
    {
     "name": "stdout",
     "output_type": "stream",
     "text": [
      "{'PR': {'units': '', 'value': 20},\n",
      " 'Pt_in': {'units': 'Pa', 'value': 126756.07488324968},\n",
      " 'Pt_out': {'units': 'Pa', 'value': 2535121.4976649936},\n",
      " 'TR': {'units': '-', 'value': 2.588364265799516},\n",
      " 'Tt_in': {'units': 'K', 'value': 614.1801085280961},\n",
      " 'Tt_out': {'units': 'K', 'value': 1589.7218456789924},\n",
      " 'W_in': {'units': '-', 'value': 25},\n",
      " 'W_out': {'units': '-', 'value': 25},\n",
      " 'eff_poly': {'units': '', 'value': 0.9},\n",
      " 'inlet': 'fan130',\n",
      " 'name': 'cmp20',\n",
      " 'outlet': ''}\n"
     ]
    }
   ],
   "source": [
    "cmp20 = Compressor(name = 'cmp20')\n",
    "cmp20.PR = {'value' : 20, 'units' : ''}\n",
    "cmp20.eff_poly = {'value' : 0.9, 'units' : ''}\n",
    "\n",
    "int10.calc()\n",
    "LinkPorts(int10, fan130)\n",
    "fan130.calc()\n",
    "LinkPorts(fan130, cmp20)\n",
    "cmp20.calc()\n",
    "pprint.pprint(vars(cmp20))"
   ]
  }
 ],
 "metadata": {
  "kernelspec": {
   "display_name": "Python 3.8.15 ('Jet_performance')",
   "language": "python",
   "name": "python3"
  },
  "language_info": {
   "codemirror_mode": {
    "name": "ipython",
    "version": 3
   },
   "file_extension": ".py",
   "mimetype": "text/x-python",
   "name": "python",
   "nbconvert_exporter": "python",
   "pygments_lexer": "ipython3",
   "version": "3.8.15"
  },
  "orig_nbformat": 4,
  "vscode": {
   "interpreter": {
    "hash": "3259450f655ea50efb96e4dfa5c100eb374076adc4ed06af84f8e2e28751c3d0"
   }
  }
 },
 "nbformat": 4,
 "nbformat_minor": 2
}
