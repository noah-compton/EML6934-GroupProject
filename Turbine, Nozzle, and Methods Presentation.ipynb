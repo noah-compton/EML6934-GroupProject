{
 "cells": [
  {
   "cell_type": "markdown",
   "metadata": {},
   "source": [
    "# Turbine, Diffuser, and Class Methods\n",
    "## Noah Compton\n",
    "## 12/05/22"
   ]
  },
  {
   "cell_type": "code",
   "execution_count": 8,
   "metadata": {},
   "outputs": [],
   "source": [
    "from turbine import Turbine"
   ]
  },
  {
   "cell_type": "code",
   "execution_count": 9,
   "metadata": {},
   "outputs": [
    {
     "name": "stdout",
     "output_type": "stream",
     "text": [
      "0.8715901379878442\n"
     ]
    }
   ],
   "source": [
    "efficiency = Turbine.polytropic_efficiency(TR=2.2, PR=20.7)\n",
    "print(efficiency)"
   ]
  },
  {
   "cell_type": "code",
   "execution_count": 7,
   "metadata": {},
   "outputs": [
    {
     "name": "stdout",
     "output_type": "stream",
     "text": [
      "2.1986307100568245\n"
     ]
    }
   ],
   "source": [
    "temp_ratio = Turbine.temp_ratio_from_poly_efficiency(PR=20.7, eff_poly=0.91)\n",
    "print(temp_ratio) "
   ]
  },
  {
   "cell_type": "code",
   "execution_count": 14,
   "metadata": {},
   "outputs": [
    {
     "name": "stdout",
     "output_type": "stream",
     "text": [
      "24.339296054725345\n"
     ]
    }
   ],
   "source": [
    "pressure_ratio = Turbine.pressure_ratio_from_poly_efficiency(TR=2.4, eff_poly=0.94)\n",
    "print(pressure_ratio)"
   ]
  },
  {
   "cell_type": "code",
   "execution_count": 11,
   "metadata": {},
   "outputs": [
    {
     "name": "stdout",
     "output_type": "stream",
     "text": [
      "41399.99999999999\n"
     ]
    }
   ],
   "source": [
    "Pt5 = Turbine.Pt_out_from_poly_efficiency(Pt_in=2000, TR=2.2, eff_poly=efficiency)\n",
    "print(Pt5)"
   ]
  },
  {
   "cell_type": "code",
   "execution_count": 14,
   "metadata": {},
   "outputs": [
    {
     "name": "stdout",
     "output_type": "stream",
     "text": [
      "539.0\n"
     ]
    }
   ],
   "source": [
    "Tt5 = Turbine.Tt_out_from_poly_efficiency(Tt_in=450, PR=20.7, eff_poly=efficiency)\n",
    "print(Tt5)"
   ]
  },
  {
   "cell_type": "code",
   "execution_count": 12,
   "metadata": {},
   "outputs": [
    {
     "name": "stdout",
     "output_type": "stream",
     "text": [
      "34900.99386249369\n"
     ]
    }
   ],
   "source": [
    "P5 = Turbine.static_pressure_out(Pt_out=Pt5, Tt_out=Tt5, mach_out=0.5)\n",
    "print(P5)"
   ]
  },
  {
   "cell_type": "code",
   "execution_count": 13,
   "metadata": {},
   "outputs": [
    {
     "name": "stdout",
     "output_type": "stream",
     "text": [
      "454.07649869451143\n"
     ]
    }
   ],
   "source": [
    "speed_o_sound = Turbine.speed_of_sound_out(Tt_out=Tt5, mach_out=0.5)\n",
    "print(speed_o_sound)"
   ]
  }
 ],
 "metadata": {
  "kernelspec": {
   "display_name": "Python 3.8.15 ('Python_Class')",
   "language": "python",
   "name": "python3"
  },
  "language_info": {
   "codemirror_mode": {
    "name": "ipython",
    "version": 3
   },
   "file_extension": ".py",
   "mimetype": "text/x-python",
   "name": "python",
   "nbconvert_exporter": "python",
   "pygments_lexer": "ipython3",
   "version": "3.8.15"
  },
  "orig_nbformat": 4,
  "vscode": {
   "interpreter": {
    "hash": "8e5e3b906c79d663003ea3d6899e07bab8b52b26292ab6601bb99725f5760e79"
   }
  }
 },
 "nbformat": 4,
 "nbformat_minor": 2
}
