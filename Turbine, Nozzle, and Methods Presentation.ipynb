{
 "cells": [
  {
   "cell_type": "markdown",
   "metadata": {},
   "source": [
    "# Turbine, Nozzle, and Class Methods\n",
    "## Noah Compton\n",
    "## 12/05/22"
   ]
  },
  {
   "cell_type": "markdown",
   "metadata": {},
   "source": [
    "### 1. Details about components\n",
    "#### a. Turbine \n",
    "\n",
    "- Turbine takes flow in from the burner and outputs it to the mixer. \n",
    "\n",
    "- The standard naming convention denotes input conditions with subscript 4, and output conditions with subscript 5.\n",
    "\n",
    "    - i.e. `T_4` denotes the input temperature, while `T_5` denotes the output temperature.\n"
   ]
  },
  {
   "cell_type": "markdown",
   "metadata": {},
   "source": [
    "#### b. Nozzle\n",
    "- Nozzle takes flow from mixer and releases it downstream.\n",
    "\n",
    "- Standard naming convention is subscript 7 for inlet of the nozzle and subscript 8 for the exit.\n",
    "    - i.e. `T_7` is input temperature and `T_8` is the out temperature."
   ]
  },
  {
   "cell_type": "markdown",
   "metadata": {},
   "source": [
    "### Class Methods\n",
    "\n",
    "Each station of a turbofan engine has a corresponding class in this package.\n",
    "\n",
    "As mentioned before, the classes will be able to communicate with one another.\n",
    "\n",
    "However, there are methods in the classes that require no input from other stations.\n",
    "\n",
    "- This way, should the user need to calculate the conditions before and after just one station, they will be able to via these class methods."
   ]
  },
  {
   "cell_type": "markdown",
   "metadata": {},
   "source": [
    "### Examples:\n",
    "\n",
    "The following examples shows the class methods of the turbine station. \n",
    "\n",
    "- Note: The input conditions do not rely on the conditions of the other classes for these examples, only the turbine is being analyzed.\n",
    "\n",
    "    - That being said, there are still methods that require the classes to communicate in order to function using `LinkPorts` which Isabel described earlier."
   ]
  },
  {
   "cell_type": "markdown",
   "metadata": {},
   "source": [
    "First, we need to import the Turbine class and the gas_dynamics package."
   ]
  },
  {
   "cell_type": "code",
   "execution_count": 1,
   "metadata": {},
   "outputs": [],
   "source": [
    "from turbine import Turbine\n",
    "import gas_dynamics as gd"
   ]
  },
  {
   "cell_type": "markdown",
   "metadata": {},
   "source": [
    "The polytropic efficiency of the turbine can be calculated via a class method which uses temperature ratio and pressure ratio as inputs. \n",
    "\n",
    "- The format for this method is: `polytropic_efficiency(TR: float, PR: float, gas=gd.fluids.air)`\n",
    "\n",
    "    - Note that the default gas being used is air. This can easily be changed by inputing a different fluid from the gas dynamics package."
   ]
  },
  {
   "cell_type": "code",
   "execution_count": 2,
   "metadata": {},
   "outputs": [
    {
     "name": "stdout",
     "output_type": "stream",
     "text": [
      "0.8715901379878442\n"
     ]
    }
   ],
   "source": [
    "efficiency = Turbine.polytropic_efficiency(TR=2.2, PR=20.7)\n",
    "print(efficiency)"
   ]
  },
  {
   "cell_type": "markdown",
   "metadata": {},
   "source": [
    "If the user is instead searching for the temperature ratio, they can solve for it using pressure ratio and polytropic efficiency. \n",
    "\n",
    "- Format: `temp_ratio_from_poly_efficiency(PR: float, eff_poly: float, gas=gd.fluids.air)`\n",
    "\n",
    "    - Again, the default gas is air."
   ]
  },
  {
   "cell_type": "code",
   "execution_count": 3,
   "metadata": {},
   "outputs": [
    {
     "name": "stdout",
     "output_type": "stream",
     "text": [
      "2.1986307100568245\n"
     ]
    }
   ],
   "source": [
    "temp_ratio = Turbine.temp_ratio_from_poly_efficiency(PR=20.7, eff_poly=0.91)\n",
    "print(temp_ratio) "
   ]
  },
  {
   "cell_type": "markdown",
   "metadata": {},
   "source": [
    "In the same way, the pressure ratio can also be calculated from temperature ratio and polytropic efficiency.\n",
    "\n",
    "- Format: `pressure_ratio_from_poly_efficiency(TR: float, eff_poly: float, gas=gd.fluids.air)`"
   ]
  },
  {
   "cell_type": "code",
   "execution_count": 4,
   "metadata": {},
   "outputs": [
    {
     "name": "stdout",
     "output_type": "stream",
     "text": [
      "24.339296054725345\n"
     ]
    }
   ],
   "source": [
    "pressure_ratio = Turbine.pressure_ratio_from_poly_efficiency(TR=2.4, eff_poly=0.94)\n",
    "print(pressure_ratio)"
   ]
  },
  {
   "cell_type": "markdown",
   "metadata": {},
   "source": [
    "Total conditions are a crucial part of engine analysis. Therefore, there are methods that can calculate them.\n",
    "\n",
    "Given an initial stagnation pressure, the temperature ratio across the turbine, and the efficiency of the turbine, and type of gas being used, the following class method can evaluate the resulting total tempurate exiting the turbine.\n",
    "\n",
    "- Format: `Pt_out_from_poly_efficiency(Pt_in: float, TR:float, eff_poly:float, gas=gd.fluids.air)`"
   ]
  },
  {
   "cell_type": "code",
   "execution_count": 5,
   "metadata": {},
   "outputs": [
    {
     "name": "stdout",
     "output_type": "stream",
     "text": [
      "41399.99999999999\n"
     ]
    }
   ],
   "source": [
    "Pt5 = Turbine.Pt_out_from_poly_efficiency(Pt_in=2000, TR=2.2, eff_poly=efficiency)\n",
    "print(Pt5)"
   ]
  },
  {
   "cell_type": "markdown",
   "metadata": {},
   "source": [
    "Similarly, total temperature can be evaluated.\n",
    "\n",
    "- Format: `Tt_out_from_poly_efficiency(Tt_in: float, PR: float, eff_poly: float, gas=gd.fluids.air)`"
   ]
  },
  {
   "cell_type": "code",
   "execution_count": 6,
   "metadata": {},
   "outputs": [
    {
     "name": "stdout",
     "output_type": "stream",
     "text": [
      "539.0\n"
     ]
    }
   ],
   "source": [
    "Tt5 = Turbine.Tt_out_from_poly_efficiency(Tt_in=450, PR=20.7, eff_poly=efficiency)\n",
    "print(Tt5)"
   ]
  },
  {
   "cell_type": "markdown",
   "metadata": {},
   "source": [
    "Although total conditions are important, sometimes static conditions are needed, especially in the turbine. \n",
    "\n",
    "Therefore, there is a method of the turbine class which calculates the static pressure at the exit.\n",
    "\n",
    "- Format: `static_pressure_out(Pt_out: float, Tt_out: float, mach_out: float, gas=gd.fluids.air)`"
   ]
  },
  {
   "cell_type": "code",
   "execution_count": 7,
   "metadata": {},
   "outputs": [
    {
     "name": "stdout",
     "output_type": "stream",
     "text": [
      "34900.99386249369\n"
     ]
    }
   ],
   "source": [
    "P5 = Turbine.static_pressure_out(Pt_out=Pt5, Tt_out=Tt5, mach_out=0.5)\n",
    "print(P5)"
   ]
  },
  {
   "cell_type": "markdown",
   "metadata": {},
   "source": [
    "The last example shows the calculation of the speed of sound at the exit of the turbine. Since it is dependent on \n",
    "temperature, calculating the sonic velocity within the engine can provide information on how well the turbofan is performing.\n",
    "- Format: `speed_of_sound_out(Tt_out: float, mach_out: float, gas=gd.fluid.air)`\n",
    "    - Note: This calculation requires the use of the gas gamma value, $\\gamma$, as well as the gas constant, R.\n",
    "        - Previous methods also $\\gamma$. This is why the integration of the gas_dynamics package is essential, as it  defines these constants, as well as other parameters, for any gas in this package."
   ]
  },
  {
   "cell_type": "code",
   "execution_count": 8,
   "metadata": {},
   "outputs": [
    {
     "name": "stdout",
     "output_type": "stream",
     "text": [
      "454.07649869451143\n"
     ]
    }
   ],
   "source": [
    "speed_o_sound = Turbine.speed_of_sound_out(Tt_out=Tt5, mach_out=0.5)\n",
    "print(speed_o_sound)"
   ]
  },
  {
   "cell_type": "markdown",
   "metadata": {},
   "source": [
    "Example of using a gas other than the default air:"
   ]
  },
  {
   "cell_type": "code",
   "execution_count": 9,
   "metadata": {},
   "outputs": [
    {
     "name": "stdout",
     "output_type": "stream",
     "text": [
      "400.32282244258414\n"
     ]
    }
   ],
   "source": [
    "speed_o_sound_argon = Turbine.speed_of_sound_out(Tt_out=500, mach_out=0.5, gas=gd.fluids.argon)\n",
    "print(speed_o_sound_argon)"
   ]
  },
  {
   "cell_type": "markdown",
   "metadata": {},
   "source": [
    "Note the difference between this result and the one above, which used the defualt gas air as an input.\n",
    "\n",
    "All methods have the option to input a different gas thanks to the gas_dynamics package, although in reality the gas being used will almost always be air."
   ]
  }
 ],
 "metadata": {
  "kernelspec": {
   "display_name": "Python 3.8.15 ('Python_Class')",
   "language": "python",
   "name": "python3"
  },
  "language_info": {
   "codemirror_mode": {
    "name": "ipython",
    "version": 3
   },
   "file_extension": ".py",
   "mimetype": "text/x-python",
   "name": "python",
   "nbconvert_exporter": "python",
   "pygments_lexer": "ipython3",
   "version": "3.8.15"
  },
  "orig_nbformat": 4,
  "vscode": {
   "interpreter": {
    "hash": "8e5e3b906c79d663003ea3d6899e07bab8b52b26292ab6601bb99725f5760e79"
   }
  }
 },
 "nbformat": 4,
 "nbformat_minor": 2
}
