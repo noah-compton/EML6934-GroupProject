{
 "cells": [
  {
   "cell_type": "markdown",
   "metadata": {},
   "source": [
    "# Jet Engine Performance Model (Steady State)"
   ]
  },
  {
   "cell_type": "markdown",
   "metadata": {},
   "source": [
    "by Noah Compton, Isabel Husted, and Jose Roque"
   ]
  },
  {
   "cell_type": "markdown",
   "metadata": {},
   "source": [
    "## Parts -or- Components\n",
    "Parts are stored in independent files, and they all define a `class` with the Part name, for example, the file `compressor.py` will have the definition of the `class` Compressor.\n",
    "\n",
    "For example, to import an specific Compressor, we export the Compressor `class` from the file `compressor.py`"
   ]
  },
  {
   "cell_type": "code",
   "execution_count": 21,
   "metadata": {},
   "outputs": [
    {
     "ename": "KeyError",
     "evalue": "0",
     "output_type": "error",
     "traceback": [
      "\u001b[1;31m---------------------------------------------------------------------------\u001b[0m",
      "\u001b[1;31mKeyError\u001b[0m                                  Traceback (most recent call last)",
      "\u001b[1;32m<ipython-input-21-f259b3ffc949>\u001b[0m in \u001b[0;36m<module>\u001b[1;34m\u001b[0m\n\u001b[0;32m      1\u001b[0m \u001b[1;32mfrom\u001b[0m \u001b[0mcompressor\u001b[0m \u001b[1;32mimport\u001b[0m \u001b[0mCompressor\u001b[0m\u001b[1;33m\u001b[0m\u001b[1;33m\u001b[0m\u001b[0m\n\u001b[0;32m      2\u001b[0m \u001b[1;33m\u001b[0m\u001b[0m\n\u001b[1;32m----> 3\u001b[1;33m \u001b[0mCmp20\u001b[0m \u001b[1;33m=\u001b[0m \u001b[0mCompressor\u001b[0m\u001b[1;33m(\u001b[0m\u001b[0mname\u001b[0m\u001b[1;33m=\u001b[0m\u001b[1;34m'Cmp20'\u001b[0m\u001b[1;33m,\u001b[0m\u001b[0meff_poly\u001b[0m \u001b[1;33m=\u001b[0m \u001b[1;33m{\u001b[0m\u001b[1;34m'value'\u001b[0m\u001b[1;33m:\u001b[0m \u001b[1;36m0.9\u001b[0m\u001b[1;33m,\u001b[0m \u001b[1;34m'units'\u001b[0m\u001b[1;33m:\u001b[0m \u001b[1;34m'-'\u001b[0m\u001b[1;33m}\u001b[0m\u001b[1;33m,\u001b[0m \u001b[0mPR\u001b[0m \u001b[1;33m=\u001b[0m \u001b[1;33m{\u001b[0m\u001b[1;34m'value'\u001b[0m\u001b[1;33m:\u001b[0m \u001b[1;36m20.\u001b[0m\u001b[1;33m,\u001b[0m \u001b[1;34m'units'\u001b[0m\u001b[1;33m:\u001b[0m \u001b[1;34m'-'\u001b[0m\u001b[1;33m}\u001b[0m\u001b[1;33m)\u001b[0m\u001b[1;33m\u001b[0m\u001b[1;33m\u001b[0m\u001b[0m\n\u001b[0m",
      "\u001b[1;32mc:\\Users\\jroqu\\OneDrive - University of Florida\\Documents\\GitHub\\EML6934-GroupProject\\compressor.py\u001b[0m in \u001b[0;36m__init__\u001b[1;34m(self, **kwargs)\u001b[0m\n\u001b[0;32m     66\u001b[0m                       \u001b[1;34m'PR'\u001b[0m       \u001b[1;33m,\u001b[0m \u001b[1;34m'TR'\u001b[0m       \u001b[1;33m,\u001b[0m \u001b[1;34m'N_mech'\u001b[0m   \u001b[1;33m,\u001b[0m\u001b[1;33m\u001b[0m\u001b[1;33m\u001b[0m\u001b[0m\n\u001b[0;32m     67\u001b[0m                       \u001b[1;34m'eff_poly'\u001b[0m \u001b[1;33m,\u001b[0m \u001b[1;34m'eff_mech'\u001b[0m \u001b[1;33m,\u001b[0m \u001b[1;34m'eff_isen'\u001b[0m \u001b[1;33m,\u001b[0m\u001b[1;33m\u001b[0m\u001b[1;33m\u001b[0m\u001b[0m\n\u001b[1;32m---> 68\u001b[1;33m                       ]\n\u001b[0m\u001b[0;32m     69\u001b[0m \u001b[1;33m\u001b[0m\u001b[0m\n\u001b[0;32m     70\u001b[0m         \u001b[1;32mfor\u001b[0m \u001b[0mproperty\u001b[0m \u001b[1;32min\u001b[0m \u001b[0mkwargs\u001b[0m\u001b[1;33m:\u001b[0m\u001b[1;33m\u001b[0m\u001b[1;33m\u001b[0m\u001b[0m\n",
      "\u001b[1;31mKeyError\u001b[0m: 0"
     ]
    }
   ],
   "source": [
    "from compressor import Compressor\n",
    "\n",
    "Cmp20 = Compressor(name='Cmp20',eff_poly = {'value': 0.9, 'units': '-'}, PR = {'value': 20., 'units': '-'})"
   ]
  },
  {
   "cell_type": "code",
   "execution_count": 20,
   "metadata": {},
   "outputs": [
    {
     "name": "stdout",
     "output_type": "stream",
     "text": [
      "Cmp20.PR = {'value': 20., 'units': '-' }\n",
      "['name', 'inlet', 'outlet', 'Pt_in', 'Tt_in', 'W_in', 'Pt_out', 'Tt_out', 'W_out', 'PR', 'TR', 'N_mech', 'eff_poly', 'eff_mech', 'eff_isen']\n"
     ]
    },
    {
     "data": {
      "text/plain": [
       "True"
      ]
     },
     "execution_count": 20,
     "metadata": {},
     "output_type": "execute_result"
    }
   ],
   "source": [
    "\n",
    "exp = \"Cmp20.PR = {'value': 20., 'units': '-' }\"\n",
    "print(exp)\n",
    "exec(exp)\n",
    "\n",
    "interested = [\n",
    "                'name'     , 'inlet'    , 'outlet'   , \n",
    "                'Pt_in'    , 'Tt_in'    , 'W_in'     , \n",
    "                'Pt_out'   , 'Tt_out'   , 'W_out'    , \n",
    "                'PR'       , 'TR'       , 'N_mech'   ,\n",
    "                'eff_poly' , 'eff_mech' , 'eff_isen' ,\n",
    "                ]\n",
    "\n",
    "print(interested)\n",
    "\n",
    "'name' in interested\n",
    "# if property == 'name':\n",
    "#     self.name = values\n",
    "\n",
    "# elif property in interested:\n",
    "#     exp1 = \"self.Pt_in['value'] = value\"\n",
    "#     exp2 = \"self.Pt_in['units'] = units\"\n",
    "\n",
    "#     exec(exp1)\n",
    "\n",
    "#     if len(values) == 2:\n",
    "#         exec(exp2)\n",
    "\n",
    "#     elif len(values) < 2:\n",
    "#         raise ValueError(\"Some of the inputs are missing units\")\n",
    "\n",
    "# else:\n",
    "#     raise Warning(\"Some inputs were not expected, ignoring extra inputs\")"
   ]
  },
  {
   "cell_type": "markdown",
   "metadata": {},
   "source": [
    "## Part List\n",
    "To start building the engine model, all parts must be loaded from its specified file:"
   ]
  },
  {
   "cell_type": "code",
   "execution_count": null,
   "metadata": {},
   "outputs": [],
   "source": [
    "# Part List\n",
    "from inlet      import Inlet\n",
    "from fan        import Fan\n",
    "from bypass     import Bypass\n",
    "from compressor import Compressor\n",
    "from burner     import Burner\n",
    "from turbine    import Turbine\n",
    "from mixer      import Mixer\n",
    "from nozzle     import Nozzle"
   ]
  },
  {
   "cell_type": "markdown",
   "metadata": {},
   "source": [
    "or simply by creating a separate file named `part_list.py` and list all parts as shown above, we can import as:"
   ]
  },
  {
   "cell_type": "code",
   "execution_count": null,
   "metadata": {},
   "outputs": [],
   "source": [
    "# Part List\n",
    "from part_list import *"
   ]
  },
  {
   "cell_type": "markdown",
   "metadata": {},
   "source": [
    "## Processes\n",
    "Processes are `functions` that will be used throughout the Parts, make them iteract with each other and calculate certain paramenters. \n",
    "\n",
    "Similar to part_list, processes are defined in an independent file `processes.py`"
   ]
  },
  {
   "cell_type": "code",
   "execution_count": null,
   "metadata": {},
   "outputs": [],
   "source": [
    "# Processes\n",
    "from processes import *"
   ]
  },
  {
   "cell_type": "markdown",
   "metadata": {},
   "source": [
    "For example, the function `check_units` in the processes file, will compare the units of two variables, this way when any class tries to add or substact variables it will check if they are compatible with each other to avoid calculation errors:"
   ]
  },
  {
   "cell_type": "code",
   "execution_count": null,
   "metadata": {},
   "outputs": [],
   "source": [
    "var1 = {'value': 1.    , 'units': 'kg/s'} \n",
    "var2 = {'value': 2.    , 'units': 'kg'  } \n",
    "var3 = {'value': float , 'units':  str  }\n",
    "\n",
    "check_units(var1, var2)\n",
    "\n",
    "var3['value'] = var1['value'] + var2['value']\n",
    "var3['units'] = var1['units']"
   ]
  },
  {
   "cell_type": "markdown",
   "metadata": {},
   "source": [
    "Units for `var1` were kg/s and `var2` kg ... you can't add different dimensions!\n",
    "\n",
    "Now, modifying `var2` to be kg/s ... "
   ]
  },
  {
   "cell_type": "code",
   "execution_count": null,
   "metadata": {},
   "outputs": [],
   "source": [
    "var1 = {'value': 1.   , 'units': 'kg/s'} \n",
    "var2 = {'value': 2.   , 'units': 'kg/s'}\n",
    "var3 = {'value': float, 'units':  str  }\n",
    "\n",
    "check_units(var1, var2)\n",
    "\n",
    "var3['value'] = var1['value'] + var2['value']\n",
    "var3['units'] = var1['units']\n",
    "\n",
    "var3"
   ]
  },
  {
   "cell_type": "markdown",
   "metadata": {},
   "source": [
    "## Engine Definition\n",
    "After all parts are loaded, then all the components in the engine are defined:"
   ]
  },
  {
   "cell_type": "code",
   "execution_count": null,
   "metadata": {},
   "outputs": [],
   "source": [
    "# Inlet\n",
    "Int00 =      Inlet(name='Int10')\n",
    "\n",
    "# Core\n",
    "Fan10 =        Fan(name='Fan10')\n",
    "Cmp20 = Compressor(name='Cmp20')\n",
    "Brn30 =     Burner(name='Brn30')\n",
    "Trb40 =    Turbine(name='Trb40')\n",
    "\n",
    "# Bypass\n",
    "Byp13 =     Bypass(name='Byp13')\n",
    "Byp15 =     Bypass(name='Byp15')\n",
    "\n",
    "# Mixing Plane\n",
    "Mix50 =      Mixer(name='Mix50')\n",
    "\n",
    "# Nozzle / Exhaust\n",
    "Noz70 =     Nozzle(name='Noz70')"
   ]
  },
  {
   "cell_type": "markdown",
   "metadata": {},
   "source": [
    "## Test Data -or- Design Parameters\n",
    "After each component is defined, then known values are assigned, which can come from test data or design parameters"
   ]
  },
  {
   "cell_type": "code",
   "execution_count": null,
   "metadata": {},
   "outputs": [],
   "source": [
    "# Test Data / Design Parameters\n",
    "# Inlet, Station: 00\n",
    "Int00.u_in     = {'value': 600.    , 'units': 'm/s'  }\n",
    "Int00.W_in     = {'value': 25.     , 'units': 'kg/s' }\n",
    "\n",
    "# Compressor, Station: 20\n",
    "Cmp20.PR       = {'value': 20.     , 'units': '-'    }\n",
    "Cmp20.eff_poly = {'value': 0.9     , 'units': '-'    }\n",
    "\n",
    "# Burner, Station: 30\n",
    "Brn30.PR       = {'value': 0.95    , 'units': '-'    }\n",
    "Brn30.eff_mech = {'value': 0.98    , 'units': '-'    }\n",
    "Brn30.Tt_out   = {'value': 1673.   , 'units': 'K'    }\n",
    "\n",
    "# Nozzle, Station: 70\n",
    "Noz70.u_out    = {'value': 735.    , 'units': 'm/s'  }\n",
    "Noz70.W_out    = {'value': 25.1070 , 'units': 'kg/s' }\n"
   ]
  },
  {
   "cell_type": "markdown",
   "metadata": {},
   "source": [
    "## Performance Parameters:\n",
    "processes contain a few functions to calculate performance paramenters of the system, such as:\n",
    "1) Gross Thrust -> `gross_thrust(nozzle)`\n",
    "2) Ram Drag -> `ram_drag(inlet)`\n",
    "3) Net Thrust -> `net_thrust(inlet, nozzle)`\n",
    "4) TSFC (Thrust-specific-fuel-conpsumption) -> `tsfc(inlet, burner, nozzle)`\n",
    "5) Thermal, Propulsive and Overall System Efficiency -> `efficiency(inlet, burner, nozzle)`\n",
    "\n",
    "All functions will take as input the specific class\n",
    "\n",
    "### Net Thrust\n",
    "Net Thrust can be calculated using net_thrust(inlet: Inlet, nozzle: Nozzle):\n",
    "- Format `net_thrust(inlet, nozzle)`\n",
    "\n",
    "The function will take as input the `inlet` and `nozzle` of the Engine and calculate the net thrust for the given condition"
   ]
  },
  {
   "cell_type": "code",
   "execution_count": null,
   "metadata": {},
   "outputs": [],
   "source": [
    "Fn    = net_thrust(Int00, Noz70)\n",
    "Fn"
   ]
  },
  {
   "attachments": {},
   "cell_type": "markdown",
   "metadata": {},
   "source": []
  },
  {
   "cell_type": "code",
   "execution_count": null,
   "metadata": {},
   "outputs": [],
   "source": [
    "import Engine6934 as engine\n",
    "\n",
    "Int00, Fan10, Cmp20, Brn30, Trb40, Mix50, Noz70, Fn, TSFC = engine.my_engine()"
   ]
  },
  {
   "cell_type": "markdown",
   "metadata": {},
   "source": [
    "### 1. Details about components\n",
    "#### a. Turbine \n",
    "\n",
    "- Turbine takes flow in from the burner and outputs it to the mixer. \n",
    "\n",
    "- The standard naming convention denotes input conditions with subscript 4, and output conditions with subscript 5.\n",
    "\n",
    "    - i.e. `T4` denotes the input temperature, while `T5` denotes the output temperature.\n"
   ]
  },
  {
   "cell_type": "markdown",
   "metadata": {},
   "source": [
    "#### b. Nozzle\n",
    "- Nozzle takes flow from mixer and releases it downstream.\n",
    "\n",
    "- Standard naming convention is subscript 7 for inlet of the nozzle and subscript 8 for the exit.\n",
    "    - i.e. `T7` is input temperature and `T8` is the out temperature."
   ]
  },
  {
   "cell_type": "markdown",
   "metadata": {},
   "source": [
    "### Class Methods\n",
    "\n",
    "Each station of a turbofan engine has a corresponding class in this package.\n",
    "\n",
    "As mentioned before, the classes will be able to communicate with one another.\n",
    "\n",
    "However, there are methods in the classes that require no input from other stations.\n",
    "\n",
    "- This way, should the user need to calculate the conditions before and after just one station, they will be able to via these class methods."
   ]
  },
  {
   "cell_type": "markdown",
   "metadata": {},
   "source": [
    "### Examples:\n",
    "\n",
    "The following examples show the class methods of the turbine station. \n",
    "\n",
    "- Note: The input conditions do not rely on the conditions of the other classes for these examples, only the turbine is being analyzed.\n",
    "\n",
    "    - That being said, there are other methods that require the classes to communicate using `LinkPorts` which Isabel described earlier."
   ]
  },
  {
   "cell_type": "markdown",
   "metadata": {},
   "source": [
    "First, we need to import the Turbine class and the gas_dynamics package."
   ]
  },
  {
   "cell_type": "code",
   "execution_count": null,
   "metadata": {},
   "outputs": [],
   "source": [
    "from turbine import Turbine\n",
    "import gas_dynamics as gd"
   ]
  },
  {
   "cell_type": "markdown",
   "metadata": {},
   "source": [
    "The polytropic efficiency of the turbine can be calculated via a class method which uses temperature ratio and pressure ratio as inputs. \n",
    "\n",
    "- The format for this method is: `polytropic_efficiency(TR: float, PR: float, gas=gd.fluids.air)`\n",
    "\n",
    "    - Note that the default gas being used is air. This can easily be changed by inputing a different fluid from the gas dynamics package."
   ]
  },
  {
   "cell_type": "code",
   "execution_count": null,
   "metadata": {},
   "outputs": [],
   "source": [
    "efficiency = Turbine.polytropic_efficiency(TR=2.2, PR=20.7)\n",
    "print(efficiency)"
   ]
  },
  {
   "cell_type": "markdown",
   "metadata": {},
   "source": [
    "If the user is instead searching for the temperature ratio, they can solve for it using pressure ratio and polytropic efficiency. \n",
    "\n",
    "- Format: `temp_ratio_from_poly_efficiency(PR: float, eff_poly: float, gas=gd.fluids.air)`\n",
    "\n",
    "    - Again, the default gas is air."
   ]
  },
  {
   "cell_type": "code",
   "execution_count": null,
   "metadata": {},
   "outputs": [],
   "source": [
    "temp_ratio = Turbine.temp_ratio_from_poly_efficiency(PR=20.7, eff_poly=0.91)\n",
    "print(temp_ratio) "
   ]
  },
  {
   "cell_type": "markdown",
   "metadata": {},
   "source": [
    "In the same way, the pressure ratio can also be calculated from temperature ratio and polytropic efficiency.\n",
    "\n",
    "- Format: `pressure_ratio_from_poly_efficiency(TR: float, eff_poly: float, gas=gd.fluids.air)`"
   ]
  },
  {
   "cell_type": "code",
   "execution_count": null,
   "metadata": {},
   "outputs": [],
   "source": [
    "pressure_ratio = Turbine.pressure_ratio_from_poly_efficiency(TR=2.4, eff_poly=0.94)\n",
    "print(pressure_ratio)"
   ]
  },
  {
   "cell_type": "markdown",
   "metadata": {},
   "source": [
    "Total conditions are a crucial part of engine analysis. Therefore, there are methods that can calculate them.\n",
    "\n",
    "Given an initial total pressure, the temperature ratio across the turbine, and the efficiency of the turbine, the following class method can evaluate the resulting total pressure exiting the turbine.\n",
    "\n",
    "- Format: `Pt_out_from_poly_efficiency(Pt_in: float, TR:float, eff_poly:float, gas=gd.fluids.air)`"
   ]
  },
  {
   "cell_type": "code",
   "execution_count": null,
   "metadata": {},
   "outputs": [],
   "source": [
    "Pt5 = Turbine.Pt_out_from_poly_efficiency(Pt_in=2000, TR=2.2, eff_poly=efficiency)\n",
    "print(Pt5)"
   ]
  },
  {
   "cell_type": "markdown",
   "metadata": {},
   "source": [
    "Similarly, total temperature can be evaluated.\n",
    "\n",
    "- Format: `Tt_out_from_poly_efficiency(Tt_in: float, PR: float, eff_poly: float, gas=gd.fluids.air)`"
   ]
  },
  {
   "cell_type": "code",
   "execution_count": null,
   "metadata": {},
   "outputs": [],
   "source": [
    "Tt5 = Turbine.Tt_out_from_poly_efficiency(Tt_in=450, PR=20.7, eff_poly=efficiency)\n",
    "print(Tt5)"
   ]
  },
  {
   "cell_type": "markdown",
   "metadata": {},
   "source": [
    "Although total conditions are important, sometimes static conditions are needed, especially in the turbine. \n",
    "\n",
    "Therefore, there is a method of the turbine class which calculates the static pressure at the exit.\n",
    "\n",
    "- Format: `static_pressure_out(Pt_out: float, Tt_out: float, mach_out: float, gas=gd.fluids.air)`"
   ]
  },
  {
   "cell_type": "code",
   "execution_count": null,
   "metadata": {},
   "outputs": [],
   "source": [
    "P5 = Turbine.static_pressure_out(Pt_out=Pt5, Tt_out=Tt5, mach_out=0.5)\n",
    "print(P5)"
   ]
  },
  {
   "cell_type": "markdown",
   "metadata": {},
   "source": [
    "The last example shows the calculation of the speed of sound at the exit of the turbine. Since it is dependent on \n",
    "temperature, calculating the sonic velocity within the engine can provide information on how well the turbofan is performing.\n",
    "- Format: `speed_of_sound_out(Tt_out: float, mach_out: float, gas=gd.fluid.air)`\n",
    "    - Note: This calculation requires the use of the gas gamma value, $\\gamma$, as well as the gas constant, R.\n",
    "        - Previous methods also require $\\gamma$. This is why the integration of the gas_dynamics package is essential, as it  defines these constants, as well as other parameters, for any gas in this package."
   ]
  },
  {
   "cell_type": "code",
   "execution_count": null,
   "metadata": {},
   "outputs": [],
   "source": [
    "speed_o_sound = Turbine.speed_of_sound_out(Tt_out=500, mach_out=0.5)\n",
    "print(speed_o_sound)"
   ]
  },
  {
   "cell_type": "markdown",
   "metadata": {},
   "source": [
    "Example of using a gas other than the default air:"
   ]
  },
  {
   "cell_type": "code",
   "execution_count": null,
   "metadata": {},
   "outputs": [],
   "source": [
    "speed_o_sound_argon = Turbine.speed_of_sound_out(Tt_out=500, mach_out=0.5, gas=gd.fluids.argon)\n",
    "print(speed_o_sound_argon)"
   ]
  },
  {
   "cell_type": "markdown",
   "metadata": {},
   "source": [
    "Note the difference between this result and the one above, which used the defualt gas air as an input.\n",
    "\n",
    "All methods have the option to input a different gas thanks to the gas_dynamics package, although in reality the gas being used will almost always be air."
   ]
  },
  {
   "cell_type": "markdown",
   "metadata": {},
   "source": [
    "# Inlet, Fan, and LinkPorts Function\n",
    "## Isabel Husted\n",
    "## 12/05/22\n",
    "### Components:\n",
    "#### Inlet\n",
    "- The inlet brings free stream air into the engine\n",
    "- The standard naming convention denotes free stream conditions with subscript 0, and output conditions with subscript 2.\n",
    "    - i.e. T_0 is the free stream temperature and T_2 is the temperature at the outlet\n",
    "#### Fan\n",
    "- The fan splits the flow and directs air to the core and to the bypass, to then merge in the mixer\n"
   ]
  },
  {
   "cell_type": "markdown",
   "metadata": {},
   "source": [
    "### Example:\n",
    "Each component has a corresponding class, which is used to determine outlet conditions. \n",
    "- The input conditions for the inlet are the free stream conditions: stagnation pressure, stagnation temperature, and mach number. \n",
    "- Other input conditions are the inlet's characteristics, such as the incoming mass flow and the pressure ratio across the inlet.\n",
    "\n",
    "First the Inlet class must be imported:"
   ]
  },
  {
   "cell_type": "code",
   "execution_count": null,
   "metadata": {},
   "outputs": [],
   "source": [
    "from inlet import *"
   ]
  },
  {
   "cell_type": "markdown",
   "metadata": {},
   "source": [
    "Once the initial free stream conditions are set, the Inlet class will return the corresponding outlet conditions. The gas_dynamics package is used within the class to calculate properties such as the speed of sound and the total temperature and pressure."
   ]
  },
  {
   "cell_type": "code",
   "execution_count": null,
   "metadata": {},
   "outputs": [
    {
     "name": "stdout",
     "output_type": "stream",
     "text": [
      "{'PR': {'units': '-', 'value': 0.9},\n",
      " 'P_in': {'units': 'Pa', 'value': 12000},\n",
      " 'Pt_in': {'units': 'Pa', 'value': 93893.38880240716},\n",
      " 'Pt_out': {'units': 'Pa', 'value': 84504.04992216645},\n",
      " 'TR': 1.8,\n",
      " 'T_in': {'units': 'K', 'value': 300},\n",
      " 'Tt_in': {'units': 'K', 'value': 540.0},\n",
      " 'Tt_out': {'units': 'K', 'value': 540.0},\n",
      " 'W_in': {'units': 'kg/s', 'value': 25},\n",
      " 'W_out': {'units': 'kg/s', 'value': 25},\n",
      " 'XMN_in': {'units': '-', 'value': 2},\n",
      " 'a_in': {'units': 'm/s', 'value': 347.1282183862326},\n",
      " 'inlet': '',\n",
      " 'name': 'Int10',\n",
      " 'outlet': '',\n",
      " 'u_in': {'units': 'm/s', 'value': 694.2564367724652}}\n"
     ]
    }
   ],
   "source": [
    "Int10 = Inlet(name = 'Int10')\n",
    "\n",
    "#Set initial free stream conditions\n",
    "Int10.P_in   = {'value' : 12000  , 'units' : 'Pa'   }\n",
    "Int10.T_in   = {'value' : 300    , 'units' : 'K'    }\n",
    "Int10.XMN_in = {'value' : 2      , 'units' : '-'    }\n",
    "#Set other inlet characteristics\n",
    "Int10.W_in   = {'value' : 25     , 'units' : 'kg/s' }\n",
    "Int10.PR     = {'value' : 0.9    , 'units' : '-'    }\n",
    "\n",
    "Int10.calc()\n",
    "import pprint\n",
    "pprint.pprint(vars(Int10))"
   ]
  },
  {
   "cell_type": "markdown",
   "metadata": {},
   "source": [
    "A similar procedure can be followed for the fan. However, the outlet conditions from the inlet are used as the inlet conditions for the fan."
   ]
  },
  {
   "cell_type": "code",
   "execution_count": null,
   "metadata": {},
   "outputs": [
    {
     "name": "stdout",
     "output_type": "stream",
     "text": [
      "{'PR': {'units': '-', 'value': 1.5},\n",
      " 'Pt_in': {'units': 'Pa', 'value': 84504.04992216645},\n",
      " 'Pt_out': {'units': 'Pa', 'value': 126756.07488324968},\n",
      " 'TR': {'units': '', 'value': 1.137370571348326},\n",
      " 'Tt_in': {'units': 'K', 'value': 540.0},\n",
      " 'Tt_out': {'units': 'K', 'value': 614.1801085280961},\n",
      " 'W_in': {'units': 'kg/s', 'value': 25},\n",
      " 'W_out': {'units': '-', 'value': 25},\n",
      " 'eff_poly': {'units': '-', 'value': 0.9},\n",
      " 'inlet': '',\n",
      " 'name': 'fan130',\n",
      " 'outlet': ''}\n"
     ]
    }
   ],
   "source": [
    "from fan import *\n",
    "\n",
    "Fan130 = Fan(name = 'fan130')\n",
    "\n",
    "#Set fan inlet conditions using inlet outlet conditions\n",
    "Fan130.Pt_in    = Int10.Pt_out\n",
    "Fan130.Tt_in    = Int10.Tt_out\n",
    "Fan130.W_in     = Int10.W_out\n",
    "\n",
    "#Set fan characteristics\n",
    "Fan130.PR       = {'value' : 1.5, 'units' : '-'}\n",
    "Fan130.eff_poly = {'value' : 0.9, 'units' : '-'}\n",
    "\n",
    "Fan130.calc()\n",
    "pprint.pprint(vars(Fan130))"
   ]
  },
  {
   "cell_type": "markdown",
   "metadata": {},
   "source": [
    "### LinkPorts:\n",
    "Rather than manually inputting the outlet properties into the following class's input, a function can be used to simplify the process. The LinkPorts function converts the outlet temperature, pressure, and mass flow values to the inlet for the next station. The only alteration required to each of the classes is the addition of an \"inlet\" and \"outlet\" attribute, which are then defined by the LinkPorts function."
   ]
  },
  {
   "cell_type": "code",
   "execution_count": null,
   "metadata": {},
   "outputs": [
    {
     "name": "stdout",
     "output_type": "stream",
     "text": [
      "{'PR': {'units': '-', 'value': 1.5},\n",
      " 'Pt_in': {'units': 'Pa', 'value': 84504.04992216645},\n",
      " 'Pt_out': {'units': 'Pa', 'value': 126756.07488324968},\n",
      " 'TR': {'units': '', 'value': 1.137370571348326},\n",
      " 'Tt_in': {'units': 'K', 'value': 540.0},\n",
      " 'Tt_out': {'units': 'K', 'value': 614.1801085280961},\n",
      " 'W_in': {'units': 'kg/s', 'value': 25},\n",
      " 'W_out': {'units': '-', 'value': 25},\n",
      " 'eff_poly': {'units': '-', 'value': 0.9},\n",
      " 'inlet': 'Int10',\n",
      " 'name': 'fan130',\n",
      " 'outlet': ''}\n"
     ]
    }
   ],
   "source": [
    "from processes import LinkPorts\n",
    "\n",
    "#Use LinkPorts function to connect the inlet's outlet and fan's inlet\n",
    "Int10.calc()\n",
    "LinkPorts(Int10, Fan130)\n",
    "Fan130.calc()\n",
    "\n",
    "pprint.pprint(vars(Fan130))"
   ]
  },
  {
   "cell_type": "markdown",
   "metadata": {},
   "source": [
    "Calling the fan attributes using LinkPorts is significanlty simpler than manually inputting the values. After the initial conditions and characteristics are set for each station, LinkPorts can also be used to connect multiple stations, further reducing the amount of code required."
   ]
  },
  {
   "cell_type": "code",
   "execution_count": null,
   "metadata": {},
   "outputs": [
    {
     "name": "stdout",
     "output_type": "stream",
     "text": [
      "{'PR': {'units': '-', 'value': 20},\n",
      " 'Pt_in': {'units': 'Pa', 'value': 126756.07488324968},\n",
      " 'Pt_out': {'units': 'Pa', 'value': 2535121.4976649936},\n",
      " 'TR': {'units': '-', 'value': 2.588364265799516},\n",
      " 'Tt_in': {'units': 'K', 'value': 614.1801085280961},\n",
      " 'Tt_out': {'units': 'K', 'value': 1589.7218456789924},\n",
      " 'W_in': {'units': '-', 'value': 25},\n",
      " 'W_out': {'units': '-', 'value': 25},\n",
      " 'eff_poly': {'units': '-', 'value': 0.9},\n",
      " 'inlet': 'fan130',\n",
      " 'name': 'Cmp20',\n",
      " 'outlet': ''}\n"
     ]
    }
   ],
   "source": [
    "from compressor import *\n",
    "\n",
    "Cmp20 = Compressor(name = 'Cmp20')\n",
    "\n",
    "#Set compressor characteristics\n",
    "Cmp20.eff_poly = {'value' : 0.9 , 'units' : '-'}\n",
    "Cmp20.PR       = {'value' : 20  , 'units' : '-'}\n",
    "\n",
    "Int10.calc()\n",
    "LinkPorts(Int10, Fan130)\n",
    "Fan130.calc()\n",
    "LinkPorts(Fan130, Cmp20)\n",
    "Cmp20.calc()\n",
    "\n",
    "pprint.pprint(vars(Cmp20))"
   ]
  },
  {
   "cell_type": "markdown",
   "metadata": {},
   "source": [
    "### Inlets and Outlets:\n",
    "LinkPorts takes an argument of (object1, object2): it sets object 1 as object 2's inlet and object 2 as object 1's outlet. When used consecutively with multiple objects, a class's inlet and outlet can be set as the previous and next station, respectively."
   ]
  },
  {
   "cell_type": "code",
   "execution_count": null,
   "metadata": {},
   "outputs": [
    {
     "name": "stdout",
     "output_type": "stream",
     "text": [
      "Fan130 inlet: Int10\n",
      "Fan130 outlet: Cmp20\n"
     ]
    }
   ],
   "source": [
    "print(f'Fan130 inlet: {Fan130.inlet}\\nFan130 outlet: {Fan130.outlet}')"
   ]
  }
 ],
 "metadata": {
  "kernelspec": {
   "display_name": "Python_Class",
   "language": "python",
   "name": "python3"
  },
  "language_info": {
   "codemirror_mode": {
    "name": "ipython",
    "version": 3
   },
   "file_extension": ".py",
   "mimetype": "text/x-python",
   "name": "python",
   "nbconvert_exporter": "python",
   "pygments_lexer": "ipython3",
   "version": "3.8.15 (default, Nov  4 2022, 15:16:59) [MSC v.1916 64 bit (AMD64)]"
  },
  "orig_nbformat": 4,
  "vscode": {
   "interpreter": {
    "hash": "8e5e3b906c79d663003ea3d6899e07bab8b52b26292ab6601bb99725f5760e79"
   }
  }
 },
 "nbformat": 4,
 "nbformat_minor": 2
}
