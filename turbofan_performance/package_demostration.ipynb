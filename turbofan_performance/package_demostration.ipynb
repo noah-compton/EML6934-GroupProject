{
 "cells": [
  {
   "attachments": {},
   "cell_type": "markdown",
   "metadata": {},
   "source": [
    "# Turbofan Engine Performance Model (Steady State)"
   ]
  },
  {
   "cell_type": "markdown",
   "metadata": {},
   "source": [
    "by Noah Compton, Isabel Husted, and Jose Roque"
   ]
  },
  {
   "attachments": {},
   "cell_type": "markdown",
   "metadata": {},
   "source": [
    "Note: The main function explaination for evaluating an entire Turbofan engine can be found under \"Full Turbofan Engine Performance.\"\n",
    "\n",
    "- The function `my_engine` performs the performance calculation for every stage of the turbofan engine and will return the performance results for  each."
   ]
  },
  {
   "cell_type": "markdown",
   "metadata": {},
   "source": [
    "## Parts -or- Components\n",
    "Parts are stored in independent files, and they all define a `class` with the Part name, for example, the file `compressor.py` will have the definition of the `class` Compressor.\n",
    "\n",
    "For example, to import an specific Compressor, we export the Compressor `class` from the file `compressor.py`"
   ]
  },
  {
   "cell_type": "code",
   "execution_count": 16,
   "metadata": {},
   "outputs": [
    {
     "name": "stdout",
     "output_type": "stream",
     "text": [
      "Cmp20.PR = {'value': 20., 'units': '-' }\n",
      "['name', 'inlet', 'outlet', 'Pt_in', 'Tt_in', 'W_in', 'Pt_out', 'Tt_out', 'W_out', 'PR', 'TR', 'N_mech', 'eff_poly', 'eff_mech', 'eff_isen']\n"
     ]
    },
    {
     "data": {
      "text/plain": [
       "True"
      ]
     },
     "execution_count": 16,
     "metadata": {},
     "output_type": "execute_result"
    }
   ],
   "source": [
    "exp = \"Cmp20.PR = {'value': 20., 'units': '-' }\"\n",
    "print(exp)\n",
    "exec(exp)\n",
    "\n",
    "interested = [\n",
    "                'name'     , 'inlet'    , 'outlet'   , \n",
    "                'Pt_in'    , 'Tt_in'    , 'W_in'     , \n",
    "                'Pt_out'   , 'Tt_out'   , 'W_out'    , \n",
    "                'PR'       , 'TR'       , 'N_mech'   ,\n",
    "                'eff_poly' , 'eff_mech' , 'eff_isen' ,\n",
    "                ]\n",
    "\n",
    "print(interested)\n",
    "\n",
    "'name' in interested"
   ]
  },
  {
   "attachments": {},
   "cell_type": "markdown",
   "metadata": {},
   "source": [
    "## Processes\n",
    "Processes are `functions` that will be used throughout the Parts, make them iteract with each other and calculate certain paramenters. \n",
    "\n",
    "Processes are defined in an independent file `processes.py`"
   ]
  },
  {
   "cell_type": "code",
   "execution_count": 17,
   "metadata": {},
   "outputs": [],
   "source": [
    "# Processes\n",
    "from processes import *"
   ]
  },
  {
   "cell_type": "markdown",
   "metadata": {},
   "source": [
    "For example, the function `check_units` in the processes file, will compare the units of two variables, this way when any class tries to add or substact variables it will check if they are compatible with each other to avoid calculation errors:"
   ]
  },
  {
   "attachments": {},
   "cell_type": "markdown",
   "metadata": {},
   "source": [
    "The following is an example of a unit mismatch and will return an error when the units are checked: "
   ]
  },
  {
   "cell_type": "code",
   "execution_count": 19,
   "metadata": {},
   "outputs": [
    {
     "ename": "ValueError",
     "evalue": "Units not consistent, var1 kg/s | var2 kg",
     "output_type": "error",
     "traceback": [
      "\u001b[1;31m---------------------------------------------------------------------------\u001b[0m",
      "\u001b[1;31mValueError\u001b[0m                                Traceback (most recent call last)",
      "Cell \u001b[1;32mIn [19], line 5\u001b[0m\n\u001b[0;32m      2\u001b[0m var2 \u001b[39m=\u001b[39m {\u001b[39m'\u001b[39m\u001b[39mvalue\u001b[39m\u001b[39m'\u001b[39m: \u001b[39m2.\u001b[39m    , \u001b[39m'\u001b[39m\u001b[39munits\u001b[39m\u001b[39m'\u001b[39m: \u001b[39m'\u001b[39m\u001b[39mkg\u001b[39m\u001b[39m'\u001b[39m  } \n\u001b[0;32m      3\u001b[0m var3 \u001b[39m=\u001b[39m {\u001b[39m'\u001b[39m\u001b[39mvalue\u001b[39m\u001b[39m'\u001b[39m: \u001b[39mfloat\u001b[39m , \u001b[39m'\u001b[39m\u001b[39munits\u001b[39m\u001b[39m'\u001b[39m:  \u001b[39mstr\u001b[39m  }\n\u001b[1;32m----> 5\u001b[0m check_units(var1, var2)\n\u001b[0;32m      7\u001b[0m var3[\u001b[39m'\u001b[39m\u001b[39mvalue\u001b[39m\u001b[39m'\u001b[39m] \u001b[39m=\u001b[39m var1[\u001b[39m'\u001b[39m\u001b[39mvalue\u001b[39m\u001b[39m'\u001b[39m] \u001b[39m+\u001b[39m var2[\u001b[39m'\u001b[39m\u001b[39mvalue\u001b[39m\u001b[39m'\u001b[39m]\n\u001b[0;32m      8\u001b[0m var3[\u001b[39m'\u001b[39m\u001b[39munits\u001b[39m\u001b[39m'\u001b[39m] \u001b[39m=\u001b[39m var1[\u001b[39m'\u001b[39m\u001b[39munits\u001b[39m\u001b[39m'\u001b[39m]\n",
      "File \u001b[1;32mc:\\Users\\thoma\\OneDrive\\Desktop\\Classwork\\Fall 2022\\Python for Eng\\Project\\EML6934-GroupProject\\turbofan_performance\\processes.py:76\u001b[0m, in \u001b[0;36mcheck_units\u001b[1;34m(var1, var2)\u001b[0m\n\u001b[0;32m     74\u001b[0m \u001b[39mif\u001b[39;00m \u001b[39mtype\u001b[39m(var1) \u001b[39mis\u001b[39;00m \u001b[39mdict\u001b[39m \u001b[39mand\u001b[39;00m \u001b[39mtype\u001b[39m(var2) \u001b[39mis\u001b[39;00m \u001b[39mdict\u001b[39m:\n\u001b[0;32m     75\u001b[0m     \u001b[39mif\u001b[39;00m var1[\u001b[39m'\u001b[39m\u001b[39munits\u001b[39m\u001b[39m'\u001b[39m] \u001b[39m!=\u001b[39m var2[\u001b[39m'\u001b[39m\u001b[39munits\u001b[39m\u001b[39m'\u001b[39m]:\n\u001b[1;32m---> 76\u001b[0m         \u001b[39mraise\u001b[39;00m \u001b[39mValueError\u001b[39;00m(\u001b[39mf\u001b[39m\u001b[39m\"\u001b[39m\u001b[39mUnits not consistent, var1 \u001b[39m\u001b[39m{\u001b[39;00mvar1[\u001b[39m'\u001b[39m\u001b[39munits\u001b[39m\u001b[39m'\u001b[39m]\u001b[39m}\u001b[39;00m\u001b[39m | var2 \u001b[39m\u001b[39m{\u001b[39;00mvar2[\u001b[39m'\u001b[39m\u001b[39munits\u001b[39m\u001b[39m'\u001b[39m]\u001b[39m}\u001b[39;00m\u001b[39m\"\u001b[39m)\n\u001b[0;32m     78\u001b[0m \u001b[39melif\u001b[39;00m \u001b[39mtype\u001b[39m(var1) \u001b[39mis\u001b[39;00m \u001b[39mdict\u001b[39m \u001b[39mand\u001b[39;00m \u001b[39mtype\u001b[39m(var2) \u001b[39mis\u001b[39;00m \u001b[39mstr\u001b[39m:\n\u001b[0;32m     79\u001b[0m     \u001b[39mif\u001b[39;00m var1[\u001b[39m'\u001b[39m\u001b[39munits\u001b[39m\u001b[39m'\u001b[39m] \u001b[39m!=\u001b[39m var2:\n",
      "\u001b[1;31mValueError\u001b[0m: Units not consistent, var1 kg/s | var2 kg"
     ]
    }
   ],
   "source": [
    "var1 = {'value': 1.    , 'units': 'kg/s'} \n",
    "var2 = {'value': 2.    , 'units': 'kg'  } \n",
    "var3 = {'value': float , 'units':  str  }\n",
    "\n",
    "check_units(var1, var2)\n",
    "\n",
    "var3['value'] = var1['value'] + var2['value']\n",
    "var3['units'] = var1['units']"
   ]
  },
  {
   "cell_type": "markdown",
   "metadata": {},
   "source": [
    "Units for `var1` were kg/s and `var2` kg ... you can't add different dimensions!\n",
    "\n",
    "Now, modifying `var2` to be kg/s ... "
   ]
  },
  {
   "cell_type": "code",
   "execution_count": 20,
   "metadata": {},
   "outputs": [
    {
     "data": {
      "text/plain": [
       "{'value': 3.0, 'units': 'kg/s'}"
      ]
     },
     "execution_count": 20,
     "metadata": {},
     "output_type": "execute_result"
    }
   ],
   "source": [
    "var1 = {'value': 1.   , 'units': 'kg/s'} \n",
    "var2 = {'value': 2.   , 'units': 'kg/s'}\n",
    "var3 = {'value': float, 'units':  str  }\n",
    "\n",
    "check_units(var1, var2)\n",
    "\n",
    "var3['value'] = var1['value'] + var2['value']\n",
    "var3['units'] = var1['units']\n",
    "\n",
    "var3"
   ]
  },
  {
   "attachments": {},
   "cell_type": "markdown",
   "metadata": {},
   "source": [
    "Since the units were correct, the addition was computed. Each class in this package has a built in `check_units` function for this reason. "
   ]
  },
  {
   "attachments": {},
   "cell_type": "markdown",
   "metadata": {},
   "source": [
    "## Engine Definition\n",
    "\n",
    "Engines are defined based on the template file: template_engine.py. Here, the parts are imported from their respective classes and named. \n",
    "\n",
    "Example of importing the parts for engine configuration:"
   ]
  },
  {
   "cell_type": "code",
   "execution_count": 21,
   "metadata": {},
   "outputs": [],
   "source": [
    "from inlet       import Inlet\n",
    "from fan         import Fan\n",
    "from bypass      import Bypass\n",
    "from compressor  import Compressor\n",
    "from burner      import Burner\n",
    "from turbine     import Turbine\n",
    "from mixer       import Mixer\n",
    "from nozzle      import Nozzle"
   ]
  },
  {
   "attachments": {},
   "cell_type": "markdown",
   "metadata": {},
   "source": [
    "This should be done at the top of the engine file, and only once per engine. Naming the parts is based on station number, but ultimately the choice is upt to the user. "
   ]
  },
  {
   "cell_type": "code",
   "execution_count": 22,
   "metadata": {},
   "outputs": [],
   "source": [
    "# Inlet\n",
    "Int00 =      Inlet(name='Int10') # Inlet\n",
    "    \n",
    "# Core\n",
    "Fan10 =        Fan(name='Fan10') # Fan (for Turbofan)\n",
    "Cmp20 = Compressor(name='Cmp20') # Single Axial High Pressure Compressor\n",
    "Brn30 =     Burner(name='Brn30') # Burner or Combustion Chamber\n",
    "Trb40 =    Turbine(name='Trb40') # Single Axial High Pressure Turbine\n",
    "    \n",
    "# Bypass\n",
    "Byp13 =     Bypass(name='Byp13') # Bypass right after Fan Station\n",
    "Byp15 =     Bypass(name='Byp15') # Bypass downstream before Mixing\n",
    "    \n",
    "# Mixing Plane\n",
    "Mix50 =      Mixer(name='Mix50') # Mixing Plane\n",
    "    \n",
    "# Nozzle / Exhaust\n",
    "Noz70 =     Nozzle(name='Noz70') # Exhaust"
   ]
  },
  {
   "attachments": {},
   "cell_type": "markdown",
   "metadata": {},
   "source": [
    "After each component is defined, then known values are assigned, which can come from test data or design parameters"
   ]
  },
  {
   "cell_type": "code",
   "execution_count": 23,
   "metadata": {},
   "outputs": [],
   "source": [
    "# Test Data / Design Parameters\n",
    "# Inlet, Station: 00\n",
    "Int00.u_in     = {'value': 600.    , 'units': 'm/s'  }\n",
    "Int00.W_in     = {'value': 25.     , 'units': 'kg/s' }\n",
    "\n",
    "# Compressor, Station: 20\n",
    "Cmp20.PR       = {'value': 20.     , 'units': '-'    }\n",
    "Cmp20.eff_poly = {'value': 0.9     , 'units': '-'    }\n",
    "\n",
    "# Burner, Station: 30\n",
    "Brn30.PR       = {'value': 0.95    , 'units': '-'    }\n",
    "Brn30.eff_mech = {'value': 0.98    , 'units': '-'    }\n",
    "Brn30.Tt_out   = {'value': 1673.   , 'units': 'K'    }\n",
    "\n",
    "# Nozzle, Station: 70\n",
    "Noz70.u_out    = {'value': 735.    , 'units': 'm/s'  }\n",
    "Noz70.W_out    = {'value': 25.1070 , 'units': 'kg/s' }\n"
   ]
  },
  {
   "attachments": {},
   "cell_type": "markdown",
   "metadata": {},
   "source": [
    "Each component has a corresponding class, which is used to determine outlet conditions. \n",
    "- The input conditions for the inlet are the free stream conditions: stagnation pressure, stagnation temperature, and mach number. \n",
    "- Other input conditions are the inlet's characteristics, such as the incoming mass flow and the pressure ratio across the inlet.\n",
    "\n",
    "First the Inlet class must be imported:"
   ]
  },
  {
   "cell_type": "code",
   "execution_count": 24,
   "metadata": {},
   "outputs": [],
   "source": [
    "from inlet import *"
   ]
  },
  {
   "attachments": {},
   "cell_type": "markdown",
   "metadata": {},
   "source": [
    "Once the initial free stream conditions are set, the Inlet class will return the corresponding outlet conditions. The gas_dynamics package is used within the class to calculate properties such as the speed of sound and the total temperature and pressure.\n",
    "\n",
    "The outputs are printed as a dictionary of a dictionary, with the corresponding units and values to each parameter."
   ]
  },
  {
   "cell_type": "code",
   "execution_count": 25,
   "metadata": {},
   "outputs": [
    {
     "name": "stdout",
     "output_type": "stream",
     "text": [
      "{'PR': {'units': '-', 'value': 0.9},\n",
      " 'P_in': {'units': 'Pa', 'value': 12000},\n",
      " 'Pt_in': {'units': 'Pa', 'value': 93893.38880240716},\n",
      " 'Pt_out': {'units': 'Pa', 'value': 84504.04992216645},\n",
      " 'TR': {'units': '-', 'value': 1.8},\n",
      " 'T_in': {'units': 'K', 'value': 300},\n",
      " 'Tt_in': {'units': 'K', 'value': 540.0},\n",
      " 'Tt_out': {'units': 'K', 'value': 540.0},\n",
      " 'W_in': {'units': 'kg/s', 'value': 25},\n",
      " 'W_out': {'units': 'kg/s', 'value': 25},\n",
      " 'XMN_in': {'units': '-', 'value': 2},\n",
      " 'a_in': {'units': 'm/s', 'value': 347.1282183862326},\n",
      " 'inlet': '',\n",
      " 'name': 'Int10',\n",
      " 'outlet': '',\n",
      " 'u_in': {'units': 'm/s', 'value': 694.2564367724652}}\n"
     ]
    }
   ],
   "source": [
    "Int10 = Inlet(name = 'Int10')\n",
    "\n",
    "#Set initial free stream conditions\n",
    "Int10.P_in   = {'value' : 12000  , 'units' : 'Pa'   }\n",
    "Int10.T_in   = {'value' : 300    , 'units' : 'K'    }\n",
    "Int10.XMN_in = {'value' : 2      , 'units' : '-'    }\n",
    "#Set other inlet characteristics\n",
    "Int10.W_in   = {'value' : 25     , 'units' : 'kg/s' }\n",
    "Int10.PR     = {'value' : 0.9    , 'units' : '-'    }\n",
    "\n",
    "Int10.calc()\n",
    "import pprint\n",
    "pprint.pprint(vars(Int10))"
   ]
  },
  {
   "cell_type": "markdown",
   "metadata": {},
   "source": [
    "A similar procedure can be followed for the fan. However, the outlet conditions from the inlet are used as the inlet conditions for the fan."
   ]
  },
  {
   "cell_type": "code",
   "execution_count": 26,
   "metadata": {},
   "outputs": [
    {
     "name": "stdout",
     "output_type": "stream",
     "text": [
      "{'BPR': {'units': '-', 'value': 0.0},\n",
      " 'PR': {'units': '-', 'value': 1.5},\n",
      " 'Pt_in': {'units': 'Pa', 'value': 84504.04992216645},\n",
      " 'Pt_out1': {'units': 'Pa', 'value': 126756.07488324968},\n",
      " 'Pt_out2': {'units': 'Pa', 'value': 126756.07488324968},\n",
      " 'TR': {'units': '', 'value': 1.137370571348326},\n",
      " 'Tt_in': {'units': 'K', 'value': 540.0},\n",
      " 'Tt_out1': {'units': 'K', 'value': 614.1801085280961},\n",
      " 'Tt_out2': {'units': 'K', 'value': 614.1801085280961},\n",
      " 'W_in': {'units': 'kg/s', 'value': 25},\n",
      " 'W_out1': {'units': 'kg/s', 'value': 0.0},\n",
      " 'W_out2': {'units': 'kg/s', 'value': 0.0},\n",
      " 'eff_poly': {'units': '-', 'value': 0.9},\n",
      " 'inlet': '',\n",
      " 'name': 'fan130',\n",
      " 'outlet': ''}\n"
     ]
    }
   ],
   "source": [
    "from fan import *\n",
    "\n",
    "Fan130 = Fan(name = 'fan130')\n",
    "\n",
    "#Set fan inlet conditions using inlet outlet conditions\n",
    "Fan130.Pt_in    = Int10.Pt_out\n",
    "Fan130.Tt_in    = Int10.Tt_out\n",
    "Fan130.W_in     = Int10.W_out\n",
    "\n",
    "#Set fan characteristics\n",
    "Fan130.PR       = {'value' : 1.5, 'units' : '-'}\n",
    "Fan130.eff_poly = {'value' : 0.9, 'units' : '-'}\n",
    "\n",
    "Fan130.calc()\n",
    "pprint.pprint(vars(Fan130))"
   ]
  },
  {
   "cell_type": "markdown",
   "metadata": {},
   "source": [
    "### LinkPorts:\n",
    "Rather than manually inputting the outlet properties into the following class's input, a function can be used to simplify the process. The LinkPorts function converts the outlet temperature, pressure, and mass flow values to the inlet for the next station. The only alteration required to each of the classes is the addition of an \"inlet\" and \"outlet\" attribute, which are then defined by the LinkPorts function."
   ]
  },
  {
   "cell_type": "code",
   "execution_count": 27,
   "metadata": {},
   "outputs": [
    {
     "name": "stdout",
     "output_type": "stream",
     "text": [
      "{'BPR': {'units': '-', 'value': 0.0},\n",
      " 'PR': {'units': '-', 'value': 1.5},\n",
      " 'Pt_in': {'units': 'Pa', 'value': 84504.04992216645},\n",
      " 'Pt_out1': {'units': 'Pa', 'value': 126756.07488324968},\n",
      " 'Pt_out2': {'units': 'Pa', 'value': 126756.07488324968},\n",
      " 'TR': {'units': '', 'value': 1.137370571348326},\n",
      " 'Tt_in': {'units': 'K', 'value': 540.0},\n",
      " 'Tt_out1': {'units': 'K', 'value': 614.1801085280961},\n",
      " 'Tt_out2': {'units': 'K', 'value': 614.1801085280961},\n",
      " 'W_in': {'units': 'kg/s', 'value': 25},\n",
      " 'W_out1': {'units': 'kg/s', 'value': 0.0},\n",
      " 'W_out2': {'units': 'kg/s', 'value': 0.0},\n",
      " 'eff_poly': {'units': '-', 'value': 0.9},\n",
      " 'inlet': 'Int10',\n",
      " 'name': 'fan130',\n",
      " 'outlet': ''}\n"
     ]
    }
   ],
   "source": [
    "from processes import LinkPorts\n",
    "\n",
    "#Use LinkPorts function to connect the inlet's outlet and fan's inlet\n",
    "Int10.calc()\n",
    "LinkPorts(Int10, Fan130)\n",
    "Fan130.calc()\n",
    "\n",
    "pprint.pprint(vars(Fan130))"
   ]
  },
  {
   "cell_type": "markdown",
   "metadata": {},
   "source": [
    "### Inlets and Outlets:\n",
    "LinkPorts takes an argument of (object1, object2): it sets object 1 as object 2's inlet and object 2 as object 1's outlet. When used consecutively with multiple objects, a class's inlet and outlet can be set as the previous and next station, respectively."
   ]
  },
  {
   "cell_type": "code",
   "execution_count": 31,
   "metadata": {},
   "outputs": [
    {
     "name": "stdout",
     "output_type": "stream",
     "text": [
      "Fan130 inlet: Int10 outlet.\n"
     ]
    }
   ],
   "source": [
    "print(f'Fan130 inlet: {Fan130.inlet} outlet.')"
   ]
  },
  {
   "attachments": {},
   "cell_type": "markdown",
   "metadata": {},
   "source": [
    "## Details about components"
   ]
  },
  {
   "attachments": {},
   "cell_type": "markdown",
   "metadata": {},
   "source": [
    "#### a. Inlet\n",
    "\n",
    "- The inlet brings free stream air into the engine\n",
    "\n",
    "- The standard naming convention denotes free stream conditions with subscript 0, and output conditions with subscript 2.\n",
    "\n",
    "    - i.e. T_0 is the free stream temperature and T_2 is the temperature at the outlet\n",
    "\n",
    "#### b. Fan\n",
    "\n",
    "- The fan splits the flow and directs air to the core and to the bypass, to then merge in the mixer"
   ]
  },
  {
   "attachments": {},
   "cell_type": "markdown",
   "metadata": {},
   "source": [
    "#### c. Bypass\n",
    "\n",
    "- The bypass is where excess air not entering the core of the engine flows. This air flows around the core and joins with the core stream later in the \n",
    "\n",
    "    turbofan engine process."
   ]
  },
  {
   "attachments": {},
   "cell_type": "markdown",
   "metadata": {},
   "source": [
    "#### d. Compressor\n",
    "\n",
    "- Air flowing into the core of the engine first enters the compressor where pressure is exerted on the flow."
   ]
  },
  {
   "attachments": {},
   "cell_type": "markdown",
   "metadata": {},
   "source": [
    "#### e. Burner\n",
    "\n",
    "- Air is then subjected to fuel flow and combustion."
   ]
  },
  {
   "attachments": {},
   "cell_type": "markdown",
   "metadata": {},
   "source": [
    "#### f. Turbine \n",
    "\n",
    "- Turbine takes flow in from the burner and outputs it to the mixer. \n"
   ]
  },
  {
   "attachments": {},
   "cell_type": "markdown",
   "metadata": {},
   "source": [
    "#### g. Mixer\n",
    "\n",
    "- Core flow and bypass flow are then mixed together before exiting the turbofan engine. "
   ]
  },
  {
   "attachments": {},
   "cell_type": "markdown",
   "metadata": {},
   "source": [
    "#### h. Nozzle\n",
    "- Nozzle takes flow from mixer and releases it downstream."
   ]
  },
  {
   "cell_type": "markdown",
   "metadata": {},
   "source": [
    "### Class Methods\n",
    "\n",
    "Each station of a turbofan engine has a corresponding class in this package.\n",
    "\n",
    "As mentioned before, the classes will be able to communicate with one another.\n",
    "\n",
    "However, there are methods in the classes that require no input from other stations.\n",
    "\n",
    "- This way, should the user need to calculate the conditions before and after just one station, they will be able to via these class methods."
   ]
  },
  {
   "attachments": {},
   "cell_type": "markdown",
   "metadata": {},
   "source": [
    "### Examples:\n",
    "\n",
    "The following examples show the class methods of the turbine station. \n",
    "\n",
    "- Note: The input conditions do not rely on the conditions of the other classes for these examples, only the turbine is being analyzed.\n",
    "\n",
    "    - That being said, there are other methods that require the classes to communicate using `LinkPorts`."
   ]
  },
  {
   "cell_type": "markdown",
   "metadata": {},
   "source": [
    "First, we need to import the Turbine class and the gas_dynamics package."
   ]
  },
  {
   "cell_type": "code",
   "execution_count": 32,
   "metadata": {},
   "outputs": [],
   "source": [
    "from turbine import Turbine\n",
    "import gas_dynamics as gd"
   ]
  },
  {
   "cell_type": "markdown",
   "metadata": {},
   "source": [
    "The polytropic efficiency of the turbine can be calculated via a class method which uses temperature ratio and pressure ratio as inputs. \n",
    "\n",
    "- The format for this method is: `polytropic_efficiency(TR: float, PR: float, gas=gd.fluids.air)`\n",
    "\n",
    "    - Note that the default gas being used is air. This can easily be changed by inputing a different fluid from the gas dynamics package."
   ]
  },
  {
   "cell_type": "code",
   "execution_count": 33,
   "metadata": {},
   "outputs": [
    {
     "name": "stdout",
     "output_type": "stream",
     "text": [
      "0.8715901379878442\n"
     ]
    }
   ],
   "source": [
    "efficiency = Turbine.polytropic_efficiency(TR=2.2, PR=20.7)\n",
    "print(efficiency)"
   ]
  },
  {
   "cell_type": "markdown",
   "metadata": {},
   "source": [
    "If the user is instead searching for the temperature ratio, they can solve for it using pressure ratio and polytropic efficiency. \n",
    "\n",
    "- Format: `temp_ratio_from_poly_efficiency(PR: float, eff_poly: float, gas=gd.fluids.air)`\n",
    "\n",
    "    - Again, the default gas is air."
   ]
  },
  {
   "cell_type": "code",
   "execution_count": 34,
   "metadata": {},
   "outputs": [
    {
     "name": "stdout",
     "output_type": "stream",
     "text": [
      "2.1986307100568245\n"
     ]
    }
   ],
   "source": [
    "temp_ratio = Turbine.temp_ratio_from_poly_efficiency(PR=20.7, eff_poly=0.91)\n",
    "print(temp_ratio) "
   ]
  },
  {
   "cell_type": "markdown",
   "metadata": {},
   "source": [
    "In the same way, the pressure ratio can also be calculated from temperature ratio and polytropic efficiency.\n",
    "\n",
    "- Format: `pressure_ratio_from_poly_efficiency(TR: float, eff_poly: float, gas=gd.fluids.air)`"
   ]
  },
  {
   "cell_type": "code",
   "execution_count": 35,
   "metadata": {},
   "outputs": [
    {
     "name": "stdout",
     "output_type": "stream",
     "text": [
      "24.339296054725345\n"
     ]
    }
   ],
   "source": [
    "pressure_ratio = Turbine.pressure_ratio_from_poly_efficiency(TR=2.4, eff_poly=0.94)\n",
    "print(pressure_ratio)"
   ]
  },
  {
   "cell_type": "markdown",
   "metadata": {},
   "source": [
    "Total conditions are a crucial part of engine analysis. Therefore, there are methods that can calculate them.\n",
    "\n",
    "Given an initial total pressure, the temperature ratio across the turbine, and the efficiency of the turbine, the following class method can evaluate the resulting total pressure exiting the turbine.\n",
    "\n",
    "- Format: `Pt_out_from_poly_efficiency(Pt_in: float, TR:float, eff_poly:float, gas=gd.fluids.air)`"
   ]
  },
  {
   "cell_type": "code",
   "execution_count": 36,
   "metadata": {},
   "outputs": [
    {
     "name": "stdout",
     "output_type": "stream",
     "text": [
      "41399.99999999999\n"
     ]
    }
   ],
   "source": [
    "Pt5 = Turbine.Pt_out_from_poly_efficiency(Pt_in=2000, TR=2.2, eff_poly=efficiency)\n",
    "print(Pt5)"
   ]
  },
  {
   "cell_type": "markdown",
   "metadata": {},
   "source": [
    "Similarly, total temperature can be evaluated.\n",
    "\n",
    "- Format: `Tt_out_from_poly_efficiency(Tt_in: float, PR: float, eff_poly: float, gas=gd.fluids.air)`"
   ]
  },
  {
   "cell_type": "code",
   "execution_count": 37,
   "metadata": {},
   "outputs": [
    {
     "name": "stdout",
     "output_type": "stream",
     "text": [
      "539.0\n"
     ]
    }
   ],
   "source": [
    "Tt5 = Turbine.Tt_out_from_poly_efficiency(Tt_in=450, PR=20.7, eff_poly=efficiency)\n",
    "print(Tt5)"
   ]
  },
  {
   "cell_type": "markdown",
   "metadata": {},
   "source": [
    "Although total conditions are important, sometimes static conditions are needed, especially in the turbine. \n",
    "\n",
    "Therefore, there is a method of the turbine class which calculates the static pressure at the exit.\n",
    "\n",
    "- Format: `static_pressure_out(Pt_out: float, Tt_out: float, mach_out: float, gas=gd.fluids.air)`"
   ]
  },
  {
   "cell_type": "code",
   "execution_count": 38,
   "metadata": {},
   "outputs": [
    {
     "name": "stdout",
     "output_type": "stream",
     "text": [
      "34900.99386249369\n"
     ]
    }
   ],
   "source": [
    "P5 = Turbine.static_pressure_out(Pt_out=Pt5, Tt_out=Tt5, mach_out=0.5)\n",
    "print(P5)"
   ]
  },
  {
   "cell_type": "markdown",
   "metadata": {},
   "source": [
    "The last example shows the calculation of the speed of sound at the exit of the turbine. Since it is dependent on \n",
    "temperature, calculating the sonic velocity within the engine can provide information on how well the turbofan is performing.\n",
    "- Format: `speed_of_sound_out(Tt_out: float, mach_out: float, gas=gd.fluid.air)`\n",
    "    - Note: This calculation requires the use of the gas gamma value, $\\gamma$, as well as the gas constant, R.\n",
    "        - Previous methods also require $\\gamma$. This is why the integration of the gas_dynamics package is essential, as it  defines these constants, as well as other parameters, for any gas in this package."
   ]
  },
  {
   "cell_type": "code",
   "execution_count": 39,
   "metadata": {},
   "outputs": [
    {
     "name": "stdout",
     "output_type": "stream",
     "text": [
      "437.34044709661447\n"
     ]
    }
   ],
   "source": [
    "speed_o_sound = Turbine.speed_of_sound_out(Tt_out=500, mach_out=0.5)\n",
    "print(speed_o_sound)"
   ]
  },
  {
   "cell_type": "markdown",
   "metadata": {},
   "source": [
    "Example of using a gas other than the default air:"
   ]
  },
  {
   "cell_type": "code",
   "execution_count": 40,
   "metadata": {},
   "outputs": [
    {
     "name": "stdout",
     "output_type": "stream",
     "text": [
      "400.32282244258414\n"
     ]
    }
   ],
   "source": [
    "speed_o_sound_argon = Turbine.speed_of_sound_out(Tt_out=500, mach_out=0.5, gas=gd.fluids.argon)\n",
    "print(speed_o_sound_argon)"
   ]
  },
  {
   "cell_type": "markdown",
   "metadata": {},
   "source": [
    "Note the difference between this result and the one above, which used the defualt gas air as an input.\n",
    "\n",
    "All methods have the option to input a different gas thanks to the gas_dynamics package, although in reality the gas being used will almost always be air."
   ]
  },
  {
   "attachments": {},
   "cell_type": "markdown",
   "metadata": {},
   "source": [
    "## Full Turbofan Engine Performance\n",
    "\n",
    "To use the package to assess an engine, first import the engine file. This example uses a custom engine, template_engine.py, in which all components and design parameters are defined.\n",
    "\n",
    "The `my_engine()` function will run the entire program and relevant test data can be extracted."
   ]
  },
  {
   "cell_type": "code",
   "execution_count": 41,
   "metadata": {},
   "outputs": [],
   "source": [
    "import template_engine as engine\n",
    "\n",
    "Int00, Fan10, Cmp20, Brn30, Trb40, Mix50, Noz70, Fn, TSFC = engine.my_engine()"
   ]
  },
  {
   "attachments": {},
   "cell_type": "markdown",
   "metadata": {},
   "source": [
    "Any stage within the turbofan can be analyzed by accessing the respective dictionary."
   ]
  },
  {
   "cell_type": "code",
   "execution_count": 42,
   "metadata": {},
   "outputs": [
    {
     "data": {
      "text/plain": [
       "{'value': 84504.04992216645, 'units': 'Pa'}"
      ]
     },
     "execution_count": 42,
     "metadata": {},
     "output_type": "execute_result"
    }
   ],
   "source": [
    "Int00.Pt_out"
   ]
  },
  {
   "cell_type": "markdown",
   "metadata": {},
   "source": [
    "## Performance Parameters:\n",
    "processes contain a few functions to calculate performance paramenters of the system, such as:\n",
    "1) Gross Thrust -> `gross_thrust(nozzle)`\n",
    "2) Ram Drag -> `ram_drag(inlet)`\n",
    "3) Net Thrust -> `net_thrust(inlet, nozzle)`\n",
    "4) TSFC (Thrust-specific-fuel-conpsumption) -> `tsfc(inlet, burner, nozzle)`\n",
    "5) Thermal, Propulsive and Overall System Efficiency -> `efficiency(inlet, burner, nozzle)`\n",
    "\n",
    "All functions will take as input the specific class\n",
    "\n",
    "### Net Thrust\n",
    "Net Thrust can be calculated using net_thrust(inlet: Inlet, nozzle: Nozzle):\n",
    "- Format `net_thrust(inlet, nozzle)`\n",
    "\n",
    "The function will take as input the `inlet` and `nozzle` of the Engine and calculate the net thrust for the given condition"
   ]
  },
  {
   "attachments": {},
   "cell_type": "markdown",
   "metadata": {},
   "source": [
    "First import the processes file, which includes the aforementioned functions."
   ]
  },
  {
   "cell_type": "code",
   "execution_count": 43,
   "metadata": {},
   "outputs": [],
   "source": [
    "from processes import *"
   ]
  },
  {
   "attachments": {},
   "cell_type": "markdown",
   "metadata": {},
   "source": [
    "Now we can calculate the net thrust, which uses gross thrust and ram drag calculations within its function."
   ]
  },
  {
   "cell_type": "code",
   "execution_count": 44,
   "metadata": {},
   "outputs": [
    {
     "data": {
      "text/plain": [
       "{'value': 4502.889794108069, 'units': 'N'}"
      ]
     },
     "execution_count": 44,
     "metadata": {},
     "output_type": "execute_result"
    }
   ],
   "source": [
    "Fn    = net_thrust(Int00, Noz70)\n",
    "Fn"
   ]
  }
 ],
 "metadata": {
  "kernelspec": {
   "display_name": "Python_Class",
   "language": "python",
   "name": "python3"
  },
  "language_info": {
   "codemirror_mode": {
    "name": "ipython",
    "version": 3
   },
   "file_extension": ".py",
   "mimetype": "text/x-python",
   "name": "python",
   "nbconvert_exporter": "python",
   "pygments_lexer": "ipython3",
   "version": "3.8.15 (default, Nov  4 2022, 15:16:59) [MSC v.1916 64 bit (AMD64)]"
  },
  "orig_nbformat": 4,
  "vscode": {
   "interpreter": {
    "hash": "8e5e3b906c79d663003ea3d6899e07bab8b52b26292ab6601bb99725f5760e79"
   }
  }
 },
 "nbformat": 4,
 "nbformat_minor": 2
}
