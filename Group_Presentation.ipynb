{
 "cells": [
  {
   "cell_type": "markdown",
   "metadata": {},
   "source": [
    "# Hello World"
   ]
  },
  {
   "cell_type": "code",
   "execution_count": null,
   "metadata": {},
   "outputs": [],
   "source": [
    "import MATLAB_calc as MATLAB"
   ]
  },
  {
   "cell_type": "code",
   "execution_count": 1,
   "metadata": {},
   "outputs": [],
   "source": [
    "# Part List\n",
    "from part_list import *\n",
    "\n",
    "# Processes\n",
    "from processes import *"
   ]
  },
  {
   "cell_type": "code",
   "execution_count": 2,
   "metadata": {},
   "outputs": [],
   "source": [
    "# Components\n",
    "Int00 =      Inlet(name='Int10')\n",
    "Fan10 =        Fan(name='Fan10')\n",
    "Byp13 =     Bypass(name='Byp13')\n",
    "Cmp20 = Compressor(name='Cmp20')\n",
    "Brn30 =     Burner(name='Brn30')\n",
    "Trb40 =    Turbine(name='Trb40')\n",
    "Mix50 =      Mixer(name='Mix50')\n",
    "Noz70 =     Nozzle(name='Noz70')"
   ]
  },
  {
   "cell_type": "code",
   "execution_count": 8,
   "metadata": {},
   "outputs": [],
   "source": [
    "import MATLAB_calc as MATLAB\n",
    "\n",
    "# Test Data\n",
    "# Inlet, Station: 00\n",
    "Int00.u_in = {'value': MATLAB.u0     , 'units': 'm/s' }\n",
    "Int00.W_in = {'value': MATLAB.m2     , 'units': 'kg/s' }\n",
    "\n",
    "# Compressor, Station: 20\n",
    "Cmp20.PR       = {'value': MATLAB.pi_c  , 'units': '-' }\n",
    "Cmp20.eff_poly = {'value': MATLAB.ec    , 'units': '-' }\n",
    "\n",
    "# Burner, Station: 30\n",
    "Brn30.PR       = {'value': MATLAB.pi_b  , 'units': '-' }\n",
    "Brn30.eff_mech = {'value': MATLAB.nb    , 'units': '-' }\n",
    "Brn30.Tt_out   = {'value': MATLAB.Tt4   , 'units': 'K' }\n",
    "\n",
    "# Nozzle, Station: 70\n",
    "Noz70.u_out = {'value': MATLAB.u9               , 'units': 'm/s' }\n",
    "Noz70.W_out = {'value': MATLAB.m2 + MATLAB.mf   , 'units': 'kg/s' }\n",
    "\n",
    "# Performance Calculations\n",
    "Fg    = gross_thrust(Noz70)\n",
    "Dram  = ram_drag(Int00)\n",
    "Fn    = net_thrust(Int00, Noz70)"
   ]
  },
  {
   "cell_type": "code",
   "execution_count": 12,
   "metadata": {},
   "outputs": [
    {
     "data": {
      "text/plain": [
       "{'value': 765.9247214456616, 'units': 'lbf'}"
      ]
     },
     "execution_count": 12,
     "metadata": {},
     "output_type": "execute_result"
    }
   ],
   "source": [
    "\n"
   ]
  },
  {
   "cell_type": "code",
   "execution_count": null,
   "metadata": {},
   "outputs": [],
   "source": [
    "# I'll pass it to Isabel\n",
    "# FreeStream -> Inlet\n",
    "# Fan -> Split / Bypass + Core = Merge into the Mixer\n",
    "# Show how LinkPorts works "
   ]
  },
  {
   "cell_type": "code",
   "execution_count": null,
   "metadata": {},
   "outputs": [],
   "source": [
    "# Noah to talk about the Turbine, show how the methods work"
   ]
  }
 ],
 "metadata": {
  "kernelspec": {
   "display_name": "Python 3.8.5 ('base')",
   "language": "python",
   "name": "python3"
  },
  "language_info": {
   "codemirror_mode": {
    "name": "ipython",
    "version": 3
   },
   "file_extension": ".py",
   "mimetype": "text/x-python",
   "name": "python",
   "nbconvert_exporter": "python",
   "pygments_lexer": "ipython3",
   "version": "3.8.5"
  },
  "orig_nbformat": 4,
  "vscode": {
   "interpreter": {
    "hash": "005e58e5f710753b16bb9a2e961aada14c12efd473e9c785b748db3aa73227b7"
   }
  }
 },
 "nbformat": 4,
 "nbformat_minor": 2
}
