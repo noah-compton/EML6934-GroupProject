{
 "cells": [
  {
   "cell_type": "markdown",
   "metadata": {},
   "source": [
    "# Notebook"
   ]
  },
  {
   "cell_type": "code",
   "execution_count": 25,
   "metadata": {},
   "outputs": [
    {
     "data": {
      "text/latex": [
       "$-173.15\\,\\mathrm{ m}$"
      ],
      "text/plain": [
       "-173.14999999999998  m"
      ]
     },
     "execution_count": 25,
     "metadata": {},
     "output_type": "execute_result"
    }
   ],
   "source": [
    "import gas_dynamics as gd\n",
    "import si_units\n",
    "\n",
    "T1 = 273.15 * METER\n",
    "T2 = 100 * METER\n",
    "\n",
    "dT = T2 - T1\n",
    "dT"
   ]
  }
 ],
 "metadata": {
  "kernelspec": {
   "display_name": "Python 3.8.5 ('base')",
   "language": "python",
   "name": "python3"
  },
  "language_info": {
   "codemirror_mode": {
    "name": "ipython",
    "version": 3
   },
   "file_extension": ".py",
   "mimetype": "text/x-python",
   "name": "python",
   "nbconvert_exporter": "python",
   "pygments_lexer": "ipython3",
   "version": "3.8.5"
  },
  "orig_nbformat": 4,
  "vscode": {
   "interpreter": {
    "hash": "005e58e5f710753b16bb9a2e961aada14c12efd473e9c785b748db3aa73227b7"
   }
  }
 },
 "nbformat": 4,
 "nbformat_minor": 2
}
