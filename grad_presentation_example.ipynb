{
 "cells": [
  {
   "cell_type": "markdown",
   "metadata": {},
   "source": [
    "## Prandtl-Meyer Expansion:\n",
    "\n",
    "The gas_dynamics module includes functions to calculate Prandtl-Meyer Relations. \n",
    "\n",
    "Import `gas_dynamics` package, and some other useful packages"
   ]
  },
  {
   "cell_type": "code",
   "execution_count": null,
   "metadata": {},
   "outputs": [],
   "source": [
    "import gas_dynamics as gd\n",
    "\n",
    "import numpy as np\n",
    "import matplotlib.pyplot as plt"
   ]
  },
  {
   "cell_type": "markdown",
   "metadata": {},
   "source": [
    "### Prandtl-Meyer Angle: \n",
    "The `prandtl_meyer_angle_from_mach(`M=`float, `angle=`float, `gas=`fluid)` module will return the turning angle **necessary** for a sonic flow (upstream mach = 1) to reach a downstream mach equal to `M` for the given `gas`\n",
    "\n",
    "Notes:\n",
    "1) If `gas` input is omitted, default is **air**\n",
    "2) The input `M` must always be greater or equal to **1** (sonic)\n"
   ]
  },
  {
   "cell_type": "code",
   "execution_count": null,
   "metadata": {},
   "outputs": [],
   "source": [
    "M = 2\n",
    "angle = gd.prandtl_meyer_angle_from_mach(M)\n",
    "\n",
    "angle"
   ]
  },
  {
   "cell_type": "markdown",
   "metadata": {},
   "source": [
    "Now lets vary Mach number to see the Prandtl-Meyer Angle"
   ]
  },
  {
   "cell_type": "code",
   "execution_count": null,
   "metadata": {},
   "outputs": [],
   "source": [
    "# Mach from 1 to 2 in increments of 0.1\n",
    "mach = np.linspace(1,2,11)\n",
    "\n",
    "print(\"Downstream Mach | Prandtl-Meyer Angle \")\n",
    "for m in mach:\n",
    "    angle = gd.prandtl_meyer_angle_from_mach(m)\n",
    "    print(\"    %5.3f       |       %5.2f\\u00B0    \" % (m, angle))"
   ]
  },
  {
   "cell_type": "code",
   "execution_count": null,
   "metadata": {},
   "outputs": [],
   "source": [
    "angle = gd.prandtl_meyer_angle_from_mach(mach)\n",
    "\n",
    "# Simple Plot\n",
    "plt.plot(angle, mach)\n",
    "plt.xlabel('Prandtl-Meyer Angle [\\u00B0]')\n",
    "plt.ylabel('Downstream Mach');\n"
   ]
  },
  {
   "cell_type": "markdown",
   "metadata": {},
   "source": [
    "### Downstream Mach:\n",
    "The `prandtl_meyer_mach_from_angle(`angle=`float)` module will return the downstream mach reached when a sonic flow (upstream mach = 1) turns the input `angle`"
   ]
  },
  {
   "cell_type": "code",
   "execution_count": null,
   "metadata": {},
   "outputs": [],
   "source": [
    "angle = 26.40\n",
    "mach = gd.prandtl_meyer_mach_from_angle(angle)\n",
    "\n",
    "mach"
   ]
  },
  {
   "cell_type": "markdown",
   "metadata": {},
   "source": [
    "Now lets vary Prandtl-Meyer Angle to see  Mach number"
   ]
  },
  {
   "cell_type": "code",
   "execution_count": null,
   "metadata": {},
   "outputs": [],
   "source": [
    "# Angle increments from 0 to 90 in 1 degree increments\n",
    "angle = np.linspace(0,25,26)\n",
    "mach = []\n",
    "print(\"Downstream Mach | Prandtl-Meyer Angle \")\n",
    "for a in angle:\n",
    "    mach.append(gd.prandtl_meyer_mach_from_angle(a))\n",
    "    print(\"    %5.3f       |       %5.2f\\u00B0    \" % (mach[-1], a))"
   ]
  },
  {
   "cell_type": "code",
   "execution_count": null,
   "metadata": {},
   "outputs": [],
   "source": [
    "# Simple Plot\n",
    "plt.plot(angle, mach)\n",
    "plt.xlabel('Prandtl-Meyer Angle [\\u00B0]')\n",
    "plt.ylabel('Downstream Mach');\n"
   ]
  },
  {
   "cell_type": "markdown",
   "metadata": {},
   "source": [
    "Plots are the same!"
   ]
  },
  {
   "cell_type": "markdown",
   "metadata": {},
   "source": [
    "### Mach Angle:\n",
    "The `mach_wave_angle(M)` module will return the mach wave angle for the downstream mach `M`"
   ]
  },
  {
   "cell_type": "code",
   "execution_count": null,
   "metadata": {},
   "outputs": [],
   "source": [
    "mach = 2\n",
    "mach2 = gd.mach_wave_angle(mach)\n",
    "mach2"
   ]
  },
  {
   "cell_type": "markdown",
   "metadata": {},
   "source": [
    "### References:\n",
    "Prandtl-Meyer Expansion Fan: https://www.grc.nasa.gov/www/k-12/airplane/pranmyer.html#:~:text=The%20physical%20interpretation%20of%20the,called%20the%20Prandtl%2DMeyer%20angle.\n",
    "\n",
    "Mach Angle: https://www.grc.nasa.gov/www/k-12/airplane/machang.html\n",
    "\n",
    "prandtl-meyer module on gas-dynamics: https://gas-dynamics.readthedocs.io/en/latest/prandtl_meyer/gas_dynamics.prandtl_meyer.html"
   ]
  }
 ],
 "metadata": {
  "kernelspec": {
   "display_name": "Python 3.8.5 ('base')",
   "language": "python",
   "name": "python3"
  },
  "language_info": {
   "codemirror_mode": {
    "name": "ipython",
    "version": 3
   },
   "file_extension": ".py",
   "mimetype": "text/x-python",
   "name": "python",
   "nbconvert_exporter": "python",
   "pygments_lexer": "ipython3",
   "version": "3.8.5"
  },
  "orig_nbformat": 4,
  "vscode": {
   "interpreter": {
    "hash": "005e58e5f710753b16bb9a2e961aada14c12efd473e9c785b748db3aa73227b7"
   }
  }
 },
 "nbformat": 4,
 "nbformat_minor": 2
}
